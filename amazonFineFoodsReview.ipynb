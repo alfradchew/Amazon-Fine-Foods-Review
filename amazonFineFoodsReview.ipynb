{
 "cells": [
  {
   "cell_type": "markdown",
   "metadata": {},
   "source": [
    "# Introduction\n",
    "\n",
    "Using the dataset \"Amazon Fine Food's Review\" from Kaggle, the task is to predict the rating (Postive / Negative) based on the feedback the users had provided. The dataset can be downloaded at\n",
    "\n",
    "https://www.kaggle.com/snap/amazon-fine-food-reviews"
   ]
  },
  {
   "cell_type": "markdown",
   "metadata": {},
   "source": [
    "# Content\n",
    "\n",
    "<ul>\n",
    "  <li><h3>1. Import Packages</h3></li>\n",
    "  <li><h3>2. Understanding the Data</h3></li>  \n",
    "  <li><h3>3. Exploratory Data Analysis</h3>\n",
    "    <ul>\n",
    "      <li>3a. Data Cleaning - Deduplication</li>\n",
    "      <li>3b. Data Cleaning - Erroneous Data</li>\n",
    "    </ul>\n",
    "  </li>\n",
    "  <li><h3>4. Data Processing</h3>\n",
    "    <ul>\n",
    "      <li>4a. Text Processing</li>\n",
    "      <li>4b. Feature Engineering</li>\n",
    "    </ul>\n",
    "  </li> \n",
    "  <li><h3>5. Text Classification</h3>\n",
    "    <ul>\n",
    "      <li>5a. Selection and Splitting of Data</li>\n",
    "      <li>5b. Defining the Functions</li>\n",
    "      <li>5c. Selection of Models\n",
    "        <ul>\n",
    "          <li>5ci. Naive Bayes</li>\n",
    "          <li>5cii. Logistic Regression</li>\n",
    "          <li>5ciii. Linear Support Vector Machine</li>\n",
    "          <li>5civ. Random Forest</li>  \n",
    "        </ul>\n",
    "      </li>\n",
    "      <li>5d. N-Gram</li> \n",
    "      <li>5e. Common / Rare Words Removal</li>  \n",
    "      <li>5f. Summary vs Text vs Summary+Text</li> \n",
    "      <li>5g. Regularization</li>  \n",
    "    </ul>\n",
    "  </li>     \n",
    "  <li><h3>6. Final Model</h3></li> \n",
    "  <li><h3>7. Conclusion</h3></li> \n",
    "</ul>"
   ]
  },
  {
   "cell_type": "markdown",
   "metadata": {},
   "source": [
    "## 1. Import Packages\n",
    "\n",
    "Begin by importing the relevant packages. Note that you have to do some additional prior installations when importing the nltk package."
   ]
  },
  {
   "cell_type": "code",
   "execution_count": 1,
   "metadata": {},
   "outputs": [],
   "source": [
    "import pandas as pd\n",
    "import numpy as np\n",
    "import seaborn as sns\n",
    "import time\n",
    "import re # For Regular Expression\n",
    "from IPython.display import display\n",
    "\n",
    "import nltk\n",
    "from nltk.corpus import stopwords\n",
    "from textblob import Word\n",
    "from collections import Counter\n",
    "\n",
    "from sklearn.feature_extraction.text import CountVectorizer\n",
    "from sklearn.feature_extraction.text import TfidfTransformer\n",
    "\n",
    "from sklearn.pipeline import Pipeline\n",
    "from sklearn.model_selection import train_test_split, cross_val_score\n",
    "from sklearn.naive_bayes import MultinomialNB\n",
    "from sklearn.linear_model import LogisticRegression\n",
    "from sklearn.svm import LinearSVC\n",
    "from sklearn.ensemble import RandomForestClassifier\n",
    "\n",
    "from sklearn.metrics import accuracy_score, confusion_matrix, classification_report\n",
    "from sklearn.model_selection import GridSearchCV"
   ]
  },
  {
   "cell_type": "markdown",
   "metadata": {},
   "source": [
    "## 2. Understanding the Data\n",
    "\n",
    "The Amazon Fine Food Reviews dataset consists of user's reviews of fine foods from Amazon.\n",
    "<br>\n",
    "Number of reviews (rows): 568,454\n",
    "<br>\n",
    "Number of users: 256,059\n",
    "<br>\n",
    "Number of products: 74,258\n",
    "<br>\n",
    "Timespan: Oct 1999 - Oct 2012\n",
    "<br>\n",
    "Number of Attributes: 10\n",
    "<br>\n",
    "<br>\n",
    "Attribute Information:\n",
    "<br>\n",
    "__Id__ - Row Id\n",
    "<br>\n",
    "__ProductId__ - Unique identifier for the product\n",
    "<br>\n",
    "__UserId__ - Unqiue identifier for the user\n",
    "<br>\n",
    "__ProfileName__ - Profile name of the user\n",
    "<br>\n",
    "__HelpfulnessNumerator__ - Number of users who found the review helpful\n",
    "<br>\n",
    "__HelpfulnessDenominator__ - Number of users who indicated whether they found the review helpful or not\n",
    "<br>\n",
    "__Score__ - Rating between 1 and 5\n",
    "<br>\n",
    "__Time__ - Timestamp for the review\n",
    "<br>\n",
    "__Summary__ - Brief summary of the review\n",
    "<br>\n",
    "__Text__ - Text of the review\n",
    "<br>\n",
    "<br>\n",
    "For this task, we will be focusing on __Score__ (to be processed later), __Summary__ and __Text__."
   ]
  },
  {
   "cell_type": "code",
   "execution_count": 2,
   "metadata": {},
   "outputs": [
    {
     "data": {
      "text/html": [
       "<div>\n",
       "<style scoped>\n",
       "    .dataframe tbody tr th:only-of-type {\n",
       "        vertical-align: middle;\n",
       "    }\n",
       "\n",
       "    .dataframe tbody tr th {\n",
       "        vertical-align: top;\n",
       "    }\n",
       "\n",
       "    .dataframe thead th {\n",
       "        text-align: right;\n",
       "    }\n",
       "</style>\n",
       "<table border=\"1\" class=\"dataframe\">\n",
       "  <thead>\n",
       "    <tr style=\"text-align: right;\">\n",
       "      <th></th>\n",
       "      <th>Id</th>\n",
       "      <th>ProductId</th>\n",
       "      <th>UserId</th>\n",
       "      <th>ProfileName</th>\n",
       "      <th>HelpfulnessNumerator</th>\n",
       "      <th>HelpfulnessDenominator</th>\n",
       "      <th>Score</th>\n",
       "      <th>Time</th>\n",
       "      <th>Summary</th>\n",
       "      <th>Text</th>\n",
       "    </tr>\n",
       "  </thead>\n",
       "  <tbody>\n",
       "    <tr>\n",
       "      <th>0</th>\n",
       "      <td>1</td>\n",
       "      <td>B001E4KFG0</td>\n",
       "      <td>A3SGXH7AUHU8GW</td>\n",
       "      <td>delmartian</td>\n",
       "      <td>1</td>\n",
       "      <td>1</td>\n",
       "      <td>5</td>\n",
       "      <td>1303862400</td>\n",
       "      <td>Good Quality Dog Food</td>\n",
       "      <td>I have bought several of the Vitality canned d...</td>\n",
       "    </tr>\n",
       "    <tr>\n",
       "      <th>1</th>\n",
       "      <td>2</td>\n",
       "      <td>B00813GRG4</td>\n",
       "      <td>A1D87F6ZCVE5NK</td>\n",
       "      <td>dll pa</td>\n",
       "      <td>0</td>\n",
       "      <td>0</td>\n",
       "      <td>1</td>\n",
       "      <td>1346976000</td>\n",
       "      <td>Not as Advertised</td>\n",
       "      <td>Product arrived labeled as Jumbo Salted Peanut...</td>\n",
       "    </tr>\n",
       "    <tr>\n",
       "      <th>2</th>\n",
       "      <td>3</td>\n",
       "      <td>B000LQOCH0</td>\n",
       "      <td>ABXLMWJIXXAIN</td>\n",
       "      <td>Natalia Corres \"Natalia Corres\"</td>\n",
       "      <td>1</td>\n",
       "      <td>1</td>\n",
       "      <td>4</td>\n",
       "      <td>1219017600</td>\n",
       "      <td>\"Delight\" says it all</td>\n",
       "      <td>This is a confection that has been around a fe...</td>\n",
       "    </tr>\n",
       "    <tr>\n",
       "      <th>3</th>\n",
       "      <td>4</td>\n",
       "      <td>B000UA0QIQ</td>\n",
       "      <td>A395BORC6FGVXV</td>\n",
       "      <td>Karl</td>\n",
       "      <td>3</td>\n",
       "      <td>3</td>\n",
       "      <td>2</td>\n",
       "      <td>1307923200</td>\n",
       "      <td>Cough Medicine</td>\n",
       "      <td>If you are looking for the secret ingredient i...</td>\n",
       "    </tr>\n",
       "    <tr>\n",
       "      <th>4</th>\n",
       "      <td>5</td>\n",
       "      <td>B006K2ZZ7K</td>\n",
       "      <td>A1UQRSCLF8GW1T</td>\n",
       "      <td>Michael D. Bigham \"M. Wassir\"</td>\n",
       "      <td>0</td>\n",
       "      <td>0</td>\n",
       "      <td>5</td>\n",
       "      <td>1350777600</td>\n",
       "      <td>Great taffy</td>\n",
       "      <td>Great taffy at a great price.  There was a wid...</td>\n",
       "    </tr>\n",
       "  </tbody>\n",
       "</table>\n",
       "</div>"
      ],
      "text/plain": [
       "   Id   ProductId          UserId                      ProfileName  \\\n",
       "0   1  B001E4KFG0  A3SGXH7AUHU8GW                       delmartian   \n",
       "1   2  B00813GRG4  A1D87F6ZCVE5NK                           dll pa   \n",
       "2   3  B000LQOCH0   ABXLMWJIXXAIN  Natalia Corres \"Natalia Corres\"   \n",
       "3   4  B000UA0QIQ  A395BORC6FGVXV                             Karl   \n",
       "4   5  B006K2ZZ7K  A1UQRSCLF8GW1T    Michael D. Bigham \"M. Wassir\"   \n",
       "\n",
       "   HelpfulnessNumerator  HelpfulnessDenominator  Score        Time  \\\n",
       "0                     1                       1      5  1303862400   \n",
       "1                     0                       0      1  1346976000   \n",
       "2                     1                       1      4  1219017600   \n",
       "3                     3                       3      2  1307923200   \n",
       "4                     0                       0      5  1350777600   \n",
       "\n",
       "                 Summary                                               Text  \n",
       "0  Good Quality Dog Food  I have bought several of the Vitality canned d...  \n",
       "1      Not as Advertised  Product arrived labeled as Jumbo Salted Peanut...  \n",
       "2  \"Delight\" says it all  This is a confection that has been around a fe...  \n",
       "3         Cough Medicine  If you are looking for the secret ingredient i...  \n",
       "4            Great taffy  Great taffy at a great price.  There was a wid...  "
      ]
     },
     "execution_count": 2,
     "metadata": {},
     "output_type": "execute_result"
    }
   ],
   "source": [
    "df = pd.read_csv('Reviews.csv')\n",
    "df.head()"
   ]
  },
  {
   "cell_type": "markdown",
   "metadata": {},
   "source": [
    "## 3. Exploratory Data Analysis"
   ]
  },
  {
   "cell_type": "markdown",
   "metadata": {},
   "source": [
    "### 3a. Data Cleaning - Deduplication\n",
    "\n",
    "Given the reviews data had many duplicate entries, it was necessary to remove duplicates to get unbiased results for data analysis. An example of duplicated entries is shown below.\n",
    "<br>\n",
    "<br>\n",
    "The reviews provided by the same user, Geetha Krishnan, have the same values for HelpfulnessNumerator, HelpfulnessDenominator, Score, Time, Summary and Text. It turned out that these reviews belong to the same product with just a little variation in terms of its flavour or quantity. For example, \n",
    "<br>\n",
    "<br>\n",
    "ProductId = B000HDOPZG was Loacker Quadratini Vanilla Wafer Cookies, 8.82-Ounce Packages (Pack of 8)\n",
    "<br>\n",
    "ProductId = B000HDL1RQ was Loacker Quadratini Lemon Wafer Cookies, 8.82-Ounce Packages (Pack of 8) and so on\n",
    "<br>\n",
    "<br>\n",
    "Hence, these duplicated rows are removed to avoid redunancy. Only the first instance of the review is kept.\n",
    "<br>\n",
    "<br>\n",
    "Approximately, 30% of the data is removed as a result."
   ]
  },
  {
   "cell_type": "code",
   "execution_count": 3,
   "metadata": {},
   "outputs": [
    {
     "data": {
      "text/html": [
       "<div>\n",
       "<style scoped>\n",
       "    .dataframe tbody tr th:only-of-type {\n",
       "        vertical-align: middle;\n",
       "    }\n",
       "\n",
       "    .dataframe tbody tr th {\n",
       "        vertical-align: top;\n",
       "    }\n",
       "\n",
       "    .dataframe thead th {\n",
       "        text-align: right;\n",
       "    }\n",
       "</style>\n",
       "<table border=\"1\" class=\"dataframe\">\n",
       "  <thead>\n",
       "    <tr style=\"text-align: right;\">\n",
       "      <th></th>\n",
       "      <th>Id</th>\n",
       "      <th>ProductId</th>\n",
       "      <th>UserId</th>\n",
       "      <th>ProfileName</th>\n",
       "      <th>HelpfulnessNumerator</th>\n",
       "      <th>HelpfulnessDenominator</th>\n",
       "      <th>Score</th>\n",
       "      <th>Time</th>\n",
       "      <th>Summary</th>\n",
       "      <th>Text</th>\n",
       "    </tr>\n",
       "  </thead>\n",
       "  <tbody>\n",
       "    <tr>\n",
       "      <th>73790</th>\n",
       "      <td>73791</td>\n",
       "      <td>B000HDOPZG</td>\n",
       "      <td>AR5J8UI46CURR</td>\n",
       "      <td>Geetha Krishnan</td>\n",
       "      <td>2</td>\n",
       "      <td>2</td>\n",
       "      <td>5</td>\n",
       "      <td>1199577600</td>\n",
       "      <td>LOACKER QUADRATINI VANILLA WAFERS</td>\n",
       "      <td>DELICIOUS WAFERS. I FIND THAT EUROPEAN WAFERS ...</td>\n",
       "    </tr>\n",
       "    <tr>\n",
       "      <th>78444</th>\n",
       "      <td>78445</td>\n",
       "      <td>B000HDL1RQ</td>\n",
       "      <td>AR5J8UI46CURR</td>\n",
       "      <td>Geetha Krishnan</td>\n",
       "      <td>2</td>\n",
       "      <td>2</td>\n",
       "      <td>5</td>\n",
       "      <td>1199577600</td>\n",
       "      <td>LOACKER QUADRATINI VANILLA WAFERS</td>\n",
       "      <td>DELICIOUS WAFERS. I FIND THAT EUROPEAN WAFERS ...</td>\n",
       "    </tr>\n",
       "    <tr>\n",
       "      <th>138276</th>\n",
       "      <td>138277</td>\n",
       "      <td>B000HDOPYM</td>\n",
       "      <td>AR5J8UI46CURR</td>\n",
       "      <td>Geetha Krishnan</td>\n",
       "      <td>2</td>\n",
       "      <td>2</td>\n",
       "      <td>5</td>\n",
       "      <td>1199577600</td>\n",
       "      <td>LOACKER QUADRATINI VANILLA WAFERS</td>\n",
       "      <td>DELICIOUS WAFERS. I FIND THAT EUROPEAN WAFERS ...</td>\n",
       "    </tr>\n",
       "    <tr>\n",
       "      <th>138316</th>\n",
       "      <td>138317</td>\n",
       "      <td>B000HDOPYC</td>\n",
       "      <td>AR5J8UI46CURR</td>\n",
       "      <td>Geetha Krishnan</td>\n",
       "      <td>2</td>\n",
       "      <td>2</td>\n",
       "      <td>5</td>\n",
       "      <td>1199577600</td>\n",
       "      <td>LOACKER QUADRATINI VANILLA WAFERS</td>\n",
       "      <td>DELICIOUS WAFERS. I FIND THAT EUROPEAN WAFERS ...</td>\n",
       "    </tr>\n",
       "    <tr>\n",
       "      <th>155048</th>\n",
       "      <td>155049</td>\n",
       "      <td>B000PAQ75C</td>\n",
       "      <td>AR5J8UI46CURR</td>\n",
       "      <td>Geetha Krishnan</td>\n",
       "      <td>2</td>\n",
       "      <td>2</td>\n",
       "      <td>5</td>\n",
       "      <td>1199577600</td>\n",
       "      <td>LOACKER QUADRATINI VANILLA WAFERS</td>\n",
       "      <td>DELICIOUS WAFERS. I FIND THAT EUROPEAN WAFERS ...</td>\n",
       "    </tr>\n",
       "  </tbody>\n",
       "</table>\n",
       "</div>"
      ],
      "text/plain": [
       "            Id   ProductId         UserId      ProfileName  \\\n",
       "73790    73791  B000HDOPZG  AR5J8UI46CURR  Geetha Krishnan   \n",
       "78444    78445  B000HDL1RQ  AR5J8UI46CURR  Geetha Krishnan   \n",
       "138276  138277  B000HDOPYM  AR5J8UI46CURR  Geetha Krishnan   \n",
       "138316  138317  B000HDOPYC  AR5J8UI46CURR  Geetha Krishnan   \n",
       "155048  155049  B000PAQ75C  AR5J8UI46CURR  Geetha Krishnan   \n",
       "\n",
       "        HelpfulnessNumerator  HelpfulnessDenominator  Score        Time  \\\n",
       "73790                      2                       2      5  1199577600   \n",
       "78444                      2                       2      5  1199577600   \n",
       "138276                     2                       2      5  1199577600   \n",
       "138316                     2                       2      5  1199577600   \n",
       "155048                     2                       2      5  1199577600   \n",
       "\n",
       "                                  Summary  \\\n",
       "73790   LOACKER QUADRATINI VANILLA WAFERS   \n",
       "78444   LOACKER QUADRATINI VANILLA WAFERS   \n",
       "138276  LOACKER QUADRATINI VANILLA WAFERS   \n",
       "138316  LOACKER QUADRATINI VANILLA WAFERS   \n",
       "155048  LOACKER QUADRATINI VANILLA WAFERS   \n",
       "\n",
       "                                                     Text  \n",
       "73790   DELICIOUS WAFERS. I FIND THAT EUROPEAN WAFERS ...  \n",
       "78444   DELICIOUS WAFERS. I FIND THAT EUROPEAN WAFERS ...  \n",
       "138276  DELICIOUS WAFERS. I FIND THAT EUROPEAN WAFERS ...  \n",
       "138316  DELICIOUS WAFERS. I FIND THAT EUROPEAN WAFERS ...  \n",
       "155048  DELICIOUS WAFERS. I FIND THAT EUROPEAN WAFERS ...  "
      ]
     },
     "execution_count": 3,
     "metadata": {},
     "output_type": "execute_result"
    }
   ],
   "source": [
    "# An example of duplicated entry\n",
    "df[df.UserId == \"AR5J8UI46CURR\"]"
   ]
  },
  {
   "cell_type": "code",
   "execution_count": 4,
   "metadata": {},
   "outputs": [],
   "source": [
    "# Sort dataframe by ProductId in ascending order first, then remove duplicated entries\n",
    "df1 = df.sort_values(\"ProductId\", axis = 0, ascending = True, inplace = False, kind = \"quicksort\", na_position = \"last\")\n",
    "df1 = df1.drop_duplicates(subset = {\"UserId\", \"ProfileName\", \"Time\", \"Summary\", \"Text\"})"
   ]
  },
  {
   "cell_type": "code",
   "execution_count": 5,
   "metadata": {},
   "outputs": [
    {
     "data": {
      "text/plain": [
       "69.51697059040836"
      ]
     },
     "execution_count": 5,
     "metadata": {},
     "output_type": "execute_result"
    }
   ],
   "source": [
    "# % of data remaining\n",
    "len(df1) / len(df) * 100"
   ]
  },
  {
   "cell_type": "markdown",
   "metadata": {},
   "source": [
    "### 3b. Data Cleaning - Erroneous Data\n",
    "\n",
    "There are two rows with HelpfulnessNumerator values greater than HelpfulnessDenominator, which is not possible. These rows are removed from analysis."
   ]
  },
  {
   "cell_type": "code",
   "execution_count": 6,
   "metadata": {},
   "outputs": [
    {
     "data": {
      "text/html": [
       "<div>\n",
       "<style scoped>\n",
       "    .dataframe tbody tr th:only-of-type {\n",
       "        vertical-align: middle;\n",
       "    }\n",
       "\n",
       "    .dataframe tbody tr th {\n",
       "        vertical-align: top;\n",
       "    }\n",
       "\n",
       "    .dataframe thead th {\n",
       "        text-align: right;\n",
       "    }\n",
       "</style>\n",
       "<table border=\"1\" class=\"dataframe\">\n",
       "  <thead>\n",
       "    <tr style=\"text-align: right;\">\n",
       "      <th></th>\n",
       "      <th>Id</th>\n",
       "      <th>ProductId</th>\n",
       "      <th>UserId</th>\n",
       "      <th>ProfileName</th>\n",
       "      <th>HelpfulnessNumerator</th>\n",
       "      <th>HelpfulnessDenominator</th>\n",
       "      <th>Score</th>\n",
       "      <th>Time</th>\n",
       "      <th>Summary</th>\n",
       "      <th>Text</th>\n",
       "    </tr>\n",
       "  </thead>\n",
       "  <tbody>\n",
       "    <tr>\n",
       "      <th>64421</th>\n",
       "      <td>64422</td>\n",
       "      <td>B000MIDROQ</td>\n",
       "      <td>A161DK06JJMCYF</td>\n",
       "      <td>J. E. Stephens \"Jeanne\"</td>\n",
       "      <td>3</td>\n",
       "      <td>1</td>\n",
       "      <td>5</td>\n",
       "      <td>1224892800</td>\n",
       "      <td>Bought This for My Son at College</td>\n",
       "      <td>My son loves spaghetti so I didn't hesitate or...</td>\n",
       "    </tr>\n",
       "    <tr>\n",
       "      <th>44736</th>\n",
       "      <td>44737</td>\n",
       "      <td>B001EQ55RW</td>\n",
       "      <td>A2V0I904FH7ABY</td>\n",
       "      <td>Ram</td>\n",
       "      <td>3</td>\n",
       "      <td>2</td>\n",
       "      <td>4</td>\n",
       "      <td>1212883200</td>\n",
       "      <td>Pure cocoa taste with crunchy almonds inside</td>\n",
       "      <td>It was almost a 'love at first bite' - the per...</td>\n",
       "    </tr>\n",
       "  </tbody>\n",
       "</table>\n",
       "</div>"
      ],
      "text/plain": [
       "          Id   ProductId          UserId              ProfileName  \\\n",
       "64421  64422  B000MIDROQ  A161DK06JJMCYF  J. E. Stephens \"Jeanne\"   \n",
       "44736  44737  B001EQ55RW  A2V0I904FH7ABY                      Ram   \n",
       "\n",
       "       HelpfulnessNumerator  HelpfulnessDenominator  Score        Time  \\\n",
       "64421                     3                       1      5  1224892800   \n",
       "44736                     3                       2      4  1212883200   \n",
       "\n",
       "                                            Summary  \\\n",
       "64421             Bought This for My Son at College   \n",
       "44736  Pure cocoa taste with crunchy almonds inside   \n",
       "\n",
       "                                                    Text  \n",
       "64421  My son loves spaghetti so I didn't hesitate or...  \n",
       "44736  It was almost a 'love at first bite' - the per...  "
      ]
     },
     "execution_count": 6,
     "metadata": {},
     "output_type": "execute_result"
    }
   ],
   "source": [
    "# Rows which have greaters HelpfulnessNumerator values than HelpfulnessDenominator\n",
    "df1[df1.HelpfulnessNumerator > df1.HelpfulnessDenominator]"
   ]
  },
  {
   "cell_type": "code",
   "execution_count": 7,
   "metadata": {},
   "outputs": [],
   "source": [
    "df1 = df1[df1.HelpfulnessNumerator <= df1.HelpfulnessDenominator]"
   ]
  },
  {
   "cell_type": "markdown",
   "metadata": {},
   "source": [
    "Below shows the distribution of scores among the remaining data."
   ]
  },
  {
   "cell_type": "code",
   "execution_count": 8,
   "metadata": {},
   "outputs": [
    {
     "name": "stdout",
     "output_type": "stream",
     "text": [
      "(395170, 10)\n",
      "5    251736\n",
      "4     56225\n",
      "1     36520\n",
      "3     29846\n",
      "2     20843\n",
      "Name: Score, dtype: int64\n"
     ]
    },
    {
     "data": {
      "text/plain": [
       "<matplotlib.axes._subplots.AxesSubplot at 0x10ed4e8d0>"
      ]
     },
     "execution_count": 8,
     "metadata": {},
     "output_type": "execute_result"
    },
    {
     "data": {
      "image/png": "[encoded data removed]",
      "text/plain": [
       "<Figure size 432x288 with 1 Axes>"
      ]
     },
     "metadata": {
      "needs_background": "light"
     },
     "output_type": "display_data"
    }
   ],
   "source": [
    "print(df1.shape)\n",
    "print(df1[\"Score\"].value_counts())\n",
    "df1[\"Score\"].hist(bins = 5)"
   ]
  },
  {
   "cell_type": "markdown",
   "metadata": {},
   "source": [
    "## 4. Data Processing"
   ]
  },
  {
   "cell_type": "markdown",
   "metadata": {},
   "source": [
    "### 4a. Text Preprocessing\n",
    "\n",
    "After removing duplicated and errorneous data, we will now proceed to process the text summary and reviews given by the users.\n",
    "<br>\n",
    "The text are processed in the following order:\n",
    "<br>\n",
    "<ol>\n",
    "1. Removal of html tags.\n",
    "<br>\n",
    "2. Removal of any punctuations or limited set of special characters like , or . or # etc.\n",
    "<br>\n",
    "3. Check if the word is made up of english letters and is not alpha-numeric\n",
    "<br>\n",
    "4. Check to see if the length of the word is greater than 2 (as it was researched that there is no adjective in 2-letters)\n",
    "<br>\n",
    "5. Convert the word to lowercase\n",
    "<br>\n",
    "6. Removal of Stopwords\n",
    "<br>\n",
    "7. Snowball Stemming the word (it was obsereved to be better than Porter Stemming)\n",
    "<br>\n",
    "</ol>\n",
    "Credit: https://www.kaggle.com/premvardhan/amazon-fine-food-reviews-analysis-naive-bayes"
   ]
  },
  {
   "cell_type": "code",
   "execution_count": 9,
   "metadata": {},
   "outputs": [
    {
     "data": {
      "text/html": [
       "<div>\n",
       "<style scoped>\n",
       "    .dataframe tbody tr th:only-of-type {\n",
       "        vertical-align: middle;\n",
       "    }\n",
       "\n",
       "    .dataframe tbody tr th {\n",
       "        vertical-align: top;\n",
       "    }\n",
       "\n",
       "    .dataframe thead th {\n",
       "        text-align: right;\n",
       "    }\n",
       "</style>\n",
       "<table border=\"1\" class=\"dataframe\">\n",
       "  <thead>\n",
       "    <tr style=\"text-align: right;\">\n",
       "      <th></th>\n",
       "      <th>Id</th>\n",
       "      <th>ProductId</th>\n",
       "      <th>UserId</th>\n",
       "      <th>ProfileName</th>\n",
       "      <th>HelpfulnessNumerator</th>\n",
       "      <th>HelpfulnessDenominator</th>\n",
       "      <th>Score</th>\n",
       "      <th>Time</th>\n",
       "      <th>Summary</th>\n",
       "      <th>Text</th>\n",
       "    </tr>\n",
       "  </thead>\n",
       "  <tbody>\n",
       "    <tr>\n",
       "      <th>150528</th>\n",
       "      <td>150529</td>\n",
       "      <td>0006641040</td>\n",
       "      <td>A25ACLV5KPB4W</td>\n",
       "      <td>Matt Hetling \"Matt\"</td>\n",
       "      <td>0</td>\n",
       "      <td>1</td>\n",
       "      <td>4</td>\n",
       "      <td>1108425600</td>\n",
       "      <td>Nice cadence, catchy rhymes</td>\n",
       "      <td>In June&lt;br /&gt;I saw a charming group&lt;br /&gt;of ro...</td>\n",
       "    </tr>\n",
       "    <tr>\n",
       "      <th>150506</th>\n",
       "      <td>150507</td>\n",
       "      <td>0006641040</td>\n",
       "      <td>A1S4A3IQ2MU7V4</td>\n",
       "      <td>sally sue \"sally sue\"</td>\n",
       "      <td>1</td>\n",
       "      <td>1</td>\n",
       "      <td>4</td>\n",
       "      <td>1191456000</td>\n",
       "      <td>chicken soup with rice months</td>\n",
       "      <td>This is a fun way for children to learn their ...</td>\n",
       "    </tr>\n",
       "    <tr>\n",
       "      <th>150505</th>\n",
       "      <td>150506</td>\n",
       "      <td>0006641040</td>\n",
       "      <td>A2IW4PEEKO2R0U</td>\n",
       "      <td>Tracy</td>\n",
       "      <td>1</td>\n",
       "      <td>1</td>\n",
       "      <td>4</td>\n",
       "      <td>1194739200</td>\n",
       "      <td>Love the book, miss the hard cover version</td>\n",
       "      <td>I grew up reading these Sendak books, and watc...</td>\n",
       "    </tr>\n",
       "    <tr>\n",
       "      <th>150504</th>\n",
       "      <td>150505</td>\n",
       "      <td>0006641040</td>\n",
       "      <td>A2PTSM496CF40Z</td>\n",
       "      <td>Jason A. Teeple \"Nobody made a greater mistak...</td>\n",
       "      <td>1</td>\n",
       "      <td>1</td>\n",
       "      <td>4</td>\n",
       "      <td>1210809600</td>\n",
       "      <td>A classic</td>\n",
       "      <td>Get the movie or sound track and sing along wi...</td>\n",
       "    </tr>\n",
       "    <tr>\n",
       "      <th>150503</th>\n",
       "      <td>150504</td>\n",
       "      <td>0006641040</td>\n",
       "      <td>AQEYF1AXARWJZ</td>\n",
       "      <td>Les Sinclair \"book maven\"</td>\n",
       "      <td>1</td>\n",
       "      <td>1</td>\n",
       "      <td>4</td>\n",
       "      <td>1212278400</td>\n",
       "      <td>Chicken Soup with Rice</td>\n",
       "      <td>A very entertaining rhyming story--cleaver and...</td>\n",
       "    </tr>\n",
       "  </tbody>\n",
       "</table>\n",
       "</div>"
      ],
      "text/plain": [
       "            Id   ProductId          UserId  \\\n",
       "150528  150529  0006641040   A25ACLV5KPB4W   \n",
       "150506  150507  0006641040  A1S4A3IQ2MU7V4   \n",
       "150505  150506  0006641040  A2IW4PEEKO2R0U   \n",
       "150504  150505  0006641040  A2PTSM496CF40Z   \n",
       "150503  150504  0006641040   AQEYF1AXARWJZ   \n",
       "\n",
       "                                             ProfileName  \\\n",
       "150528                               Matt Hetling \"Matt\"   \n",
       "150506                             sally sue \"sally sue\"   \n",
       "150505                                             Tracy   \n",
       "150504  Jason A. Teeple \"Nobody made a greater mistak...   \n",
       "150503                         Les Sinclair \"book maven\"   \n",
       "\n",
       "        HelpfulnessNumerator  HelpfulnessDenominator  Score        Time  \\\n",
       "150528                     0                       1      4  1108425600   \n",
       "150506                     1                       1      4  1191456000   \n",
       "150505                     1                       1      4  1194739200   \n",
       "150504                     1                       1      4  1210809600   \n",
       "150503                     1                       1      4  1212278400   \n",
       "\n",
       "                                           Summary  \\\n",
       "150528                 Nice cadence, catchy rhymes   \n",
       "150506               chicken soup with rice months   \n",
       "150505  Love the book, miss the hard cover version   \n",
       "150504                                   A classic   \n",
       "150503                      Chicken Soup with Rice   \n",
       "\n",
       "                                                     Text  \n",
       "150528  In June<br />I saw a charming group<br />of ro...  \n",
       "150506  This is a fun way for children to learn their ...  \n",
       "150505  I grew up reading these Sendak books, and watc...  \n",
       "150504  Get the movie or sound track and sing along wi...  \n",
       "150503  A very entertaining rhyming story--cleaver and...  "
      ]
     },
     "execution_count": 9,
     "metadata": {},
     "output_type": "execute_result"
    }
   ],
   "source": [
    "df1.head()"
   ]
  },
  {
   "cell_type": "code",
   "execution_count": 10,
   "metadata": {},
   "outputs": [
    {
     "name": "stdout",
     "output_type": "stream",
     "text": [
      "### List of stopwords\n",
      "{'ourselves', 'if', 'them', 'after', \"she's\", 'above', 'how', 'own', 'an', 'because', 'we', 'ain', 'o', 'into', 'hadn', 'on', 'why', 'isn', 'was', \"that'll\", 'themselves', 'a', \"won't\", 'about', 'him', 'm', 'needn', \"couldn't\", 'mustn', \"wasn't\", 'until', 're', \"isn't\", \"weren't\", 'does', 'no', 'be', 'itself', 'all', 'you', \"shan't\", 'its', 'while', 'or', 'hasn', 'mightn', 'myself', 'before', 'when', 'ma', 'down', 'i', 'yourselves', 'both', \"you'd\", \"hasn't\", 'once', 've', 'didn', \"wouldn't\", 'same', 'having', 'where', 'up', 'any', 'haven', \"haven't\", 'below', 'further', \"didn't\", 'doesn', 'her', 'now', 'yours', 'weren', 'will', \"doesn't\", 'most', 'their', 'is', 'couldn', 'should', 'just', 'each', 'under', 'am', 'during', 'it', 'as', \"mightn't\", 'has', 'by', 'but', 'theirs', 'such', 'he', \"needn't\", 'again', \"you'll\", 'what', 'off', 'out', 'shouldn', 'other', 'doing', \"you're\", 'ours', 'my', 'between', 'who', 'hers', \"you've\", 'don', 'which', 'they', 'been', 'nor', 'than', 'aren', 'there', 'few', 'are', 'and', 'this', 'from', 'with', 'himself', 'to', 'through', 'won', 'in', 'herself', 'at', 'that', 'not', 'had', 't', \"mustn't\", 'our', 'wasn', 'have', 'more', 'whom', 'do', 'of', 'very', 'y', \"shouldn't\", 'yourself', 's', 'being', 'wouldn', 'me', 'she', 'his', 'those', 'll', 'then', 'the', 'for', 'so', 'can', 'some', 'only', 'your', 'too', \"hadn't\", \"should've\", 'these', 'over', \"don't\", \"aren't\", 'did', 'shan', 'd', 'were', 'against', \"it's\", 'here'}\n",
      "        \n",
      "### An Example of Snowball Stemming\n",
      "generous\n"
     ]
    }
   ],
   "source": [
    "stop = set(stopwords.words(\"english\")) # set of stopwords\n",
    "sno = nltk.stem.SnowballStemmer(\"english\") # initialising the snowball stemmer\n",
    "\n",
    "def cleanhtml(sentence): # function to clean the word of any html-tags\n",
    "    cleanr = re.compile(\"<.*?>\")\n",
    "    cleantext = re.sub(cleanr, \" \", sentence)\n",
    "    return cleantext\n",
    "\n",
    "def cleanpunc(sentence): #function to clean the word of any punctuation or special characters\n",
    "    \n",
    "    # Remove characters these characters ? ! \" # : ; @ %\n",
    "    cleaned = re.sub(r'[?|!|\\'|\"|#|:|;|@|%]', r'', sentence)\n",
    "    \n",
    "    # Remove characters these characters . , ) ( \\ /\n",
    "    cleaned = re.sub(r'[.|,|)|(|\\\\|/]', r' ', cleaned)\n",
    "    return cleaned\n",
    "\n",
    "print(\"### List of stopwords\")\n",
    "print(stop)\n",
    "print(\"        \")\n",
    "print(\"### An Example of Snowball Stemming\")\n",
    "print(sno.stem(\"generously\"))"
   ]
  },
  {
   "cell_type": "code",
   "execution_count": 11,
   "metadata": {},
   "outputs": [],
   "source": [
    "#Code for implementing step-by-step the checks mentioned in the pre-processing phase\n",
    "# this code takes a while to run as it needs to run on more than 400k sentences.\n",
    "\n",
    "# Cleaning Steps\n",
    "# 1. Remove html tags\n",
    "# 2. Remove and special characters like , or . or # etc.\n",
    "# 3. Check if the word is made up of english letters and is not alpha-numeric\n",
    "# 4. Check to see if the length of the word is greater than 2 (as it was researched that there is no adjective in 2-letters)\n",
    "# 5. Convert the word to lowercase\n",
    "# 6. Remove Stopwords\n",
    "# 7. Finally Snowball Stemming the word (it was obsereved to be better than Porter Stemming). Link:\n",
    "# https://stackoverflow.com/questions/10554052/what-are-the-major-differences-and-benefits-of-porter-and-lancaster-stemming-alg\n",
    "\n",
    "def clean_sentence(text):\n",
    "    text = str(text)\n",
    "    filtered_sentence = \"\"\n",
    "    # Step 1\n",
    "    sent = cleanhtml(text)\n",
    "    for w in sent.split():  \n",
    "        # Step 2\n",
    "        for cleaned_words in cleanpunc(w).split():\n",
    "            # # Step 3 and 4\n",
    "            if((cleaned_words.isalpha()) & (len(cleaned_words) > 2)):   \n",
    "                # Step 5 and 6\n",
    "                if(cleaned_words.lower() not in stop):\n",
    "                    # Step 7\n",
    "                    s = (sno.stem(cleaned_words.lower()))\n",
    "                    filtered_sentence = filtered_sentence + \" \" + s\n",
    "                else:\n",
    "                    continue\n",
    "            else:\n",
    "                continue \n",
    "    return filtered_sentence #final string of cleaned words"
   ]
  },
  {
   "cell_type": "code",
   "execution_count": 12,
   "metadata": {},
   "outputs": [
    {
     "name": "stdout",
     "output_type": "stream",
     "text": [
      "Time taken to complete text processing: 4.6 minutes\n"
     ]
    }
   ],
   "source": [
    "start = time.clock()\n",
    "df1[\"Cleaned_Summary\"] = df1.Summary.apply(clean_sentence)\n",
    "df1[\"Cleaned_Text\"] = df1.Text.apply(clean_sentence)\n",
    "df1.head()\n",
    "print(\"Time taken to complete text processing: {} minutes\".format(round((time.clock() - start) / 60, 1)))"
   ]
  },
  {
   "cell_type": "markdown",
   "metadata": {},
   "source": [
    "### 4b. Feature Engineering\n",
    "\n",
    "For this task, we will be predicting whether a review is positive or negative. Hence, reviews with a score of 1 or 2 will be grouped as negative whereas reviews with a score of 4 or 5 are grouped as positive. Reviews with a score of 3 are excluded from the analysis."
   ]
  },
  {
   "cell_type": "code",
   "execution_count": 13,
   "metadata": {},
   "outputs": [],
   "source": [
    "def get_rating(score):\n",
    "    if score == 1 or score == 2:\n",
    "        return \"Negative\"\n",
    "    elif score == 3:\n",
    "        return \"Neutral\"\n",
    "    else:\n",
    "        return \"Positive\"\n",
    "df1[\"Rating\"] = df1.Score.apply(get_rating)"
   ]
  },
  {
   "cell_type": "markdown",
   "metadata": {},
   "source": [
    "Given that the summary column also provides some additional information about how a user feels about the product, we will be appending it together with the text. The analysis will be conducted on both the \"Text\" variable and the newly created \"Summary_Text\" variable in the later section."
   ]
  },
  {
   "cell_type": "code",
   "execution_count": 14,
   "metadata": {},
   "outputs": [],
   "source": [
    "df1[\"Cleaned_Summary_Text\"] = df1[[\"Cleaned_Summary\", \"Cleaned_Text\"]].apply(lambda x: str(x[0]) + \" \" + str(x[1]), axis=1)"
   ]
  },
  {
   "cell_type": "markdown",
   "metadata": {},
   "source": [
    "Creating a variable called \"category id\" for now for access to the confusion matrix later."
   ]
  },
  {
   "cell_type": "code",
   "execution_count": 15,
   "metadata": {},
   "outputs": [
    {
     "data": {
      "text/html": [
       "<div>\n",
       "<style scoped>\n",
       "    .dataframe tbody tr th:only-of-type {\n",
       "        vertical-align: middle;\n",
       "    }\n",
       "\n",
       "    .dataframe tbody tr th {\n",
       "        vertical-align: top;\n",
       "    }\n",
       "\n",
       "    .dataframe thead th {\n",
       "        text-align: right;\n",
       "    }\n",
       "</style>\n",
       "<table border=\"1\" class=\"dataframe\">\n",
       "  <thead>\n",
       "    <tr style=\"text-align: right;\">\n",
       "      <th></th>\n",
       "      <th>ProductId</th>\n",
       "      <th>Score</th>\n",
       "      <th>Summary</th>\n",
       "      <th>Cleaned_Summary</th>\n",
       "      <th>Text</th>\n",
       "      <th>Cleaned_Text</th>\n",
       "      <th>Rating</th>\n",
       "      <th>Cleaned_Summary_Text</th>\n",
       "      <th>category_id</th>\n",
       "    </tr>\n",
       "  </thead>\n",
       "  <tbody>\n",
       "    <tr>\n",
       "      <th>150528</th>\n",
       "      <td>0006641040</td>\n",
       "      <td>4</td>\n",
       "      <td>Nice cadence, catchy rhymes</td>\n",
       "      <td>nice cadenc catchi rhyme</td>\n",
       "      <td>In June&lt;br /&gt;I saw a charming group&lt;br /&gt;of ro...</td>\n",
       "      <td>june saw charm group rose begin droop pep chi...</td>\n",
       "      <td>Positive</td>\n",
       "      <td>nice cadenc catchi rhyme  june saw charm grou...</td>\n",
       "      <td>0</td>\n",
       "    </tr>\n",
       "    <tr>\n",
       "      <th>150506</th>\n",
       "      <td>0006641040</td>\n",
       "      <td>4</td>\n",
       "      <td>chicken soup with rice months</td>\n",
       "      <td>chicken soup rice month</td>\n",
       "      <td>This is a fun way for children to learn their ...</td>\n",
       "      <td>fun way children learn month year learn poem ...</td>\n",
       "      <td>Positive</td>\n",
       "      <td>chicken soup rice month  fun way children lea...</td>\n",
       "      <td>0</td>\n",
       "    </tr>\n",
       "    <tr>\n",
       "      <th>150505</th>\n",
       "      <td>0006641040</td>\n",
       "      <td>4</td>\n",
       "      <td>Love the book, miss the hard cover version</td>\n",
       "      <td>love book miss hard cover version</td>\n",
       "      <td>I grew up reading these Sendak books, and watc...</td>\n",
       "      <td>grew read sendak book watch realli rosi movi ...</td>\n",
       "      <td>Positive</td>\n",
       "      <td>love book miss hard cover version  grew read ...</td>\n",
       "      <td>0</td>\n",
       "    </tr>\n",
       "    <tr>\n",
       "      <th>150504</th>\n",
       "      <td>0006641040</td>\n",
       "      <td>4</td>\n",
       "      <td>A classic</td>\n",
       "      <td>classic</td>\n",
       "      <td>Get the movie or sound track and sing along wi...</td>\n",
       "      <td>get movi sound track sing along carol king gr...</td>\n",
       "      <td>Positive</td>\n",
       "      <td>classic  get movi sound track sing along caro...</td>\n",
       "      <td>0</td>\n",
       "    </tr>\n",
       "    <tr>\n",
       "      <th>150503</th>\n",
       "      <td>0006641040</td>\n",
       "      <td>4</td>\n",
       "      <td>Chicken Soup with Rice</td>\n",
       "      <td>chicken soup rice</td>\n",
       "      <td>A very entertaining rhyming story--cleaver and...</td>\n",
       "      <td>entertain rhyme catchi illustr imagin fit rig...</td>\n",
       "      <td>Positive</td>\n",
       "      <td>chicken soup rice  entertain rhyme catchi ill...</td>\n",
       "      <td>0</td>\n",
       "    </tr>\n",
       "  </tbody>\n",
       "</table>\n",
       "</div>"
      ],
      "text/plain": [
       "         ProductId  Score                                     Summary  \\\n",
       "150528  0006641040      4                 Nice cadence, catchy rhymes   \n",
       "150506  0006641040      4               chicken soup with rice months   \n",
       "150505  0006641040      4  Love the book, miss the hard cover version   \n",
       "150504  0006641040      4                                   A classic   \n",
       "150503  0006641040      4                      Chicken Soup with Rice   \n",
       "\n",
       "                           Cleaned_Summary  \\\n",
       "150528            nice cadenc catchi rhyme   \n",
       "150506             chicken soup rice month   \n",
       "150505   love book miss hard cover version   \n",
       "150504                             classic   \n",
       "150503                   chicken soup rice   \n",
       "\n",
       "                                                     Text  \\\n",
       "150528  In June<br />I saw a charming group<br />of ro...   \n",
       "150506  This is a fun way for children to learn their ...   \n",
       "150505  I grew up reading these Sendak books, and watc...   \n",
       "150504  Get the movie or sound track and sing along wi...   \n",
       "150503  A very entertaining rhyming story--cleaver and...   \n",
       "\n",
       "                                             Cleaned_Text    Rating  \\\n",
       "150528   june saw charm group rose begin droop pep chi...  Positive   \n",
       "150506   fun way children learn month year learn poem ...  Positive   \n",
       "150505   grew read sendak book watch realli rosi movi ...  Positive   \n",
       "150504   get movi sound track sing along carol king gr...  Positive   \n",
       "150503   entertain rhyme catchi illustr imagin fit rig...  Positive   \n",
       "\n",
       "                                     Cleaned_Summary_Text  category_id  \n",
       "150528   nice cadenc catchi rhyme  june saw charm grou...            0  \n",
       "150506   chicken soup rice month  fun way children lea...            0  \n",
       "150505   love book miss hard cover version  grew read ...            0  \n",
       "150504   classic  get movi sound track sing along caro...            0  \n",
       "150503   chicken soup rice  entertain rhyme catchi ill...            0  "
      ]
     },
     "execution_count": 15,
     "metadata": {},
     "output_type": "execute_result"
    }
   ],
   "source": [
    "df2 = df1[[\"ProductId\", \"Score\", \"Summary\", \"Cleaned_Summary\", \"Text\", \"Cleaned_Text\", \"Rating\", \"Cleaned_Summary_Text\"]]\n",
    "df2 = df2[df2.Rating != \"Neutral\"]\n",
    "df2[\"category_id\"] = df2[\"Rating\"].factorize()[0]\n",
    "category_id_df = df2[[\"Rating\", \"category_id\"]].drop_duplicates().sort_values(\"category_id\")\n",
    "category_to_id = dict(category_id_df.values)\n",
    "id_to_category = dict(category_id_df[[\"category_id\", \"Rating\"]].values)\n",
    "df2.head()"
   ]
  },
  {
   "cell_type": "code",
   "execution_count": 16,
   "metadata": {},
   "outputs": [
    {
     "data": {
      "text/html": [
       "<div>\n",
       "<style scoped>\n",
       "    .dataframe tbody tr th:only-of-type {\n",
       "        vertical-align: middle;\n",
       "    }\n",
       "\n",
       "    .dataframe tbody tr th {\n",
       "        vertical-align: top;\n",
       "    }\n",
       "\n",
       "    .dataframe thead th {\n",
       "        text-align: right;\n",
       "    }\n",
       "</style>\n",
       "<table border=\"1\" class=\"dataframe\">\n",
       "  <thead>\n",
       "    <tr style=\"text-align: right;\">\n",
       "      <th></th>\n",
       "      <th>Cleaned_Summary</th>\n",
       "      <th>Cleaned_Text</th>\n",
       "      <th>Cleaned_Summary_Text</th>\n",
       "    </tr>\n",
       "  </thead>\n",
       "  <tbody>\n",
       "    <tr>\n",
       "      <th>150528</th>\n",
       "      <td>nice cadenc catchi rhyme</td>\n",
       "      <td>june saw charm group rose begin droop pep chi...</td>\n",
       "      <td>nice cadenc catchi rhyme  june saw charm grou...</td>\n",
       "    </tr>\n",
       "    <tr>\n",
       "      <th>150506</th>\n",
       "      <td>chicken soup rice month</td>\n",
       "      <td>fun way children learn month year learn poem ...</td>\n",
       "      <td>chicken soup rice month  fun way children lea...</td>\n",
       "    </tr>\n",
       "    <tr>\n",
       "      <th>150505</th>\n",
       "      <td>love book miss hard cover version</td>\n",
       "      <td>grew read sendak book watch realli rosi movi ...</td>\n",
       "      <td>love book miss hard cover version  grew read ...</td>\n",
       "    </tr>\n",
       "    <tr>\n",
       "      <th>150504</th>\n",
       "      <td>classic</td>\n",
       "      <td>get movi sound track sing along carol king gr...</td>\n",
       "      <td>classic  get movi sound track sing along caro...</td>\n",
       "    </tr>\n",
       "    <tr>\n",
       "      <th>150503</th>\n",
       "      <td>chicken soup rice</td>\n",
       "      <td>entertain rhyme catchi illustr imagin fit rig...</td>\n",
       "      <td>chicken soup rice  entertain rhyme catchi ill...</td>\n",
       "    </tr>\n",
       "  </tbody>\n",
       "</table>\n",
       "</div>"
      ],
      "text/plain": [
       "                           Cleaned_Summary  \\\n",
       "150528            nice cadenc catchi rhyme   \n",
       "150506             chicken soup rice month   \n",
       "150505   love book miss hard cover version   \n",
       "150504                             classic   \n",
       "150503                   chicken soup rice   \n",
       "\n",
       "                                             Cleaned_Text  \\\n",
       "150528   june saw charm group rose begin droop pep chi...   \n",
       "150506   fun way children learn month year learn poem ...   \n",
       "150505   grew read sendak book watch realli rosi movi ...   \n",
       "150504   get movi sound track sing along carol king gr...   \n",
       "150503   entertain rhyme catchi illustr imagin fit rig...   \n",
       "\n",
       "                                     Cleaned_Summary_Text  \n",
       "150528   nice cadenc catchi rhyme  june saw charm grou...  \n",
       "150506   chicken soup rice month  fun way children lea...  \n",
       "150505   love book miss hard cover version  grew read ...  \n",
       "150504   classic  get movi sound track sing along caro...  \n",
       "150503   chicken soup rice  entertain rhyme catchi ill...  "
      ]
     },
     "execution_count": 16,
     "metadata": {},
     "output_type": "execute_result"
    }
   ],
   "source": [
    "df2[[\"Cleaned_Summary\", \"Cleaned_Text\", \"Cleaned_Summary_Text\"]].head()"
   ]
  },
  {
   "cell_type": "markdown",
   "metadata": {},
   "source": [
    "## 5. Text Classification"
   ]
  },
  {
   "cell_type": "markdown",
   "metadata": {},
   "source": [
    "### 5a. Selection and Splitting of Data"
   ]
  },
  {
   "cell_type": "markdown",
   "metadata": {},
   "source": [
    "To prevent biasness in the classification model, an equal number of samples will be sampled from both the positive and negative group."
   ]
  },
  {
   "cell_type": "code",
   "execution_count": 17,
   "metadata": {},
   "outputs": [
    {
     "data": {
      "text/plain": [
       "Positive    307961\n",
       "Negative     57363\n",
       "Name: Rating, dtype: int64"
      ]
     },
     "execution_count": 17,
     "metadata": {},
     "output_type": "execute_result"
    }
   ],
   "source": [
    "df2.Rating.value_counts()"
   ]
  },
  {
   "cell_type": "code",
   "execution_count": 18,
   "metadata": {},
   "outputs": [
    {
     "data": {
      "text/plain": [
       "Index(['ProductId', 'Score', 'Summary', 'Cleaned_Summary', 'Text',\n",
       "       'Cleaned_Text', 'Rating', 'Cleaned_Summary_Text', 'category_id'],\n",
       "      dtype='object')"
      ]
     },
     "execution_count": 18,
     "metadata": {},
     "output_type": "execute_result"
    }
   ],
   "source": [
    "# For simplicity, I will subsample data of sample size as the negative group from the positive group \n",
    "df2_positive = df2[df2.Rating == \"Positive\"]\n",
    "df2_positive = df2_positive.sample(n = 57363)\n",
    "\n",
    "df2_negative = df2[df2.Rating == \"Negative\"]\n",
    "# df_negative = df_negative.sample(frac = 57363)\n",
    "\n",
    "df2_neutral = df2[df2.Rating == \"Neutral\"]\n",
    "\n",
    "df2_selected = pd.concat([df2_negative, df2_positive])\n",
    "df2_nonselected = df2[df2.index.isin(list(df2_selected.index)) == False]  # Unused\n",
    "df2.columns"
   ]
  },
  {
   "cell_type": "markdown",
   "metadata": {},
   "source": [
    "Split the cell into train and test set. The split is done on both the full data (to show that the analysis is biased if the sample size is skewed towards a group) and the selected data."
   ]
  },
  {
   "cell_type": "code",
   "execution_count": 19,
   "metadata": {},
   "outputs": [
    {
     "name": "stdout",
     "output_type": "stream",
     "text": [
      "X_train shape:  (86044,)\n",
      "X_test shape:  (28682,)\n",
      "y_train shape:  (86044,)\n",
      "y_test shape:  (28682,)\n",
      "X_train_full shape:  (273993,)\n",
      "X_test_full shape:  (91331,)\n",
      "y_train_full shape:  (273993,)\n",
      "y_test_full shape:  (91331,)\n"
     ]
    }
   ],
   "source": [
    "# Split into train and test set for selected data\n",
    "x_train_df, x_test_df, y_train, y_test, indices_train, indices_test = train_test_split(df2_selected[[\"ProductId\", \"Score\", \"Cleaned_Summary\", \"Cleaned_Text\", \"Cleaned_Summary_Text\"]], \n",
    "                                                                                       df2_selected.Rating, df2_selected.index, random_state = 0)\n",
    "x_train = x_train_df[\"Cleaned_Text\"]\n",
    "x_test = x_test_df[\"Cleaned_Text\"]\n",
    "print('X_train shape: ', x_train.shape)\n",
    "print('X_test shape: ', x_test.shape)\n",
    "print('y_train shape: ', y_train.shape)\n",
    "print('y_test shape: ', y_test.shape)\n",
    "\n",
    "# Split into train and test set for all data\n",
    "x_train_df_full, x_test_df_full, y_train_full, y_test_full, indices_train_full, indices_test_full = train_test_split(df2[[\"ProductId\", \"Score\", \"Cleaned_Summary\", \"Cleaned_Text\", \"Cleaned_Summary_Text\"]], \n",
    "                                                                                                                     df2.Rating, df2.index, random_state = 0)\n",
    "x_train_full = x_train_df_full[\"Cleaned_Text\"]\n",
    "x_test_full = x_test_df_full[\"Cleaned_Text\"]\n",
    "print('X_train_full shape: ', x_train_full.shape)\n",
    "print('X_test_full shape: ', x_test_full.shape)\n",
    "print('y_train_full shape: ', y_train_full.shape)\n",
    "print('y_test_full shape: ', y_test_full.shape)"
   ]
  },
  {
   "cell_type": "markdown",
   "metadata": {},
   "source": [
    "### 5b. Defining the Functions"
   ]
  },
  {
   "cell_type": "markdown",
   "metadata": {},
   "source": [
    "For this task, I will be mainly using two functions. The first is to plot the confusion matrix to show the accuracy score for each group and the second is used to fit the classification model."
   ]
  },
  {
   "cell_type": "code",
   "execution_count": 20,
   "metadata": {},
   "outputs": [],
   "source": [
    "# Function to plot Confusion Matrix\n",
    "import itertools\n",
    "import matplotlib.pyplot as plt\n",
    "def plot_confusion_matrix(cm, classes,\n",
    "                          normalize = False,\n",
    "                          title = 'Confusion matrix',\n",
    "                          cmap = plt.cm.Blues):\n",
    "    \"\"\"\n",
    "    This function prints and plots the confusion matrix.\n",
    "    Normalization can be applied by setting `normalize=True`.\n",
    "    \"\"\"\n",
    "    if normalize:\n",
    "        cm = cm.astype('float') / cm.sum(axis=1)[:, np.newaxis]\n",
    "#         print(\"Normalized confusion matrix\")\n",
    "#     else:\n",
    "#         print('Confusion matrix, without normalization')\n",
    "\n",
    "#     print(cm)\n",
    "#    plt.figure(figsize=(7,7))\n",
    "    plt.grid(False)\n",
    "    plt.imshow(cm, interpolation='nearest', cmap=cmap)\n",
    "    plt.title(title)\n",
    "    plt.colorbar()\n",
    "    tick_marks = np.arange(len(classes))\n",
    "    plt.xticks(tick_marks, classes, rotation=90)\n",
    "    plt.yticks(tick_marks, classes)\n",
    "\n",
    "    fmt = '.2f' if normalize else 'd'\n",
    "    thresh = cm.max() / 2.\n",
    "    for i, j in itertools.product(range(cm.shape[0]), range(cm.shape[1])):\n",
    "        plt.text(j, i, format(cm[i, j], fmt),\n",
    "                 horizontalalignment=\"center\",\n",
    "                 color=\"white\" if cm[i, j] > thresh else \"black\")\n",
    "\n",
    "    plt.tight_layout()\n",
    "    plt.ylabel('True label')\n",
    "    plt.xlabel('Predicted label')"
   ]
  },
  {
   "cell_type": "code",
   "execution_count": 21,
   "metadata": {},
   "outputs": [],
   "source": [
    "def plot_model(xtrain, xtest, ytrain, ytest, vect, tfidf, clf, name_of_classification, showMatrix):\n",
    "    pipeline = Pipeline([('vect', vect),\n",
    "                         ('tfidf', tfidf),\n",
    "                         ('clf', clf),\n",
    "                        ])\n",
    "    pipeline.fit(xtrain, ytrain)\n",
    "    prediction = pipeline.predict(xtest)\n",
    "\n",
    "    accuracy = accuracy_score(ytest, prediction)\n",
    "    sns.set(style = \"whitegrid\", font_scale = 1)\n",
    "    matrix = confusion_matrix(ytest, prediction)\n",
    "    if showMatrix:\n",
    "        plot_confusion_matrix(matrix, classes = [\"Negative\", \"Positive\"], normalize = True,\n",
    "                              title = \"Confusion Matrix of {} Classification \\nModel With Normalization\".format(name_of_classification))\n",
    "\n",
    "    class_report = classification_report(ytest, prediction)\n",
    "    return {\"pipeline\": pipeline, \n",
    "            \"prediction\": prediction,\n",
    "            \"accuracy_score\": accuracy, \n",
    "            \"confusion_matrix\": matrix, \n",
    "            \"class_report\": class_report}"
   ]
  },
  {
   "cell_type": "code",
   "execution_count": 22,
   "metadata": {},
   "outputs": [
    {
     "data": {
      "text/plain": [
       "Counter({'Positive': 307961, 'Negative': 57363, 'Neutral': 29846})"
      ]
     },
     "execution_count": 22,
     "metadata": {},
     "output_type": "execute_result"
    }
   ],
   "source": [
    "Counter(list(df1[\"Rating\"]))"
   ]
  },
  {
   "cell_type": "markdown",
   "metadata": {},
   "source": [
    "### 5c. Selection of Models\n",
    "\n",
    "Four common text classification models will be used in this analysis. They are:\n",
    "<br>\n",
    "<ol>\n",
    "1. Naive Bayes\n",
    "<br>\n",
    "2. Logistic Regression\n",
    "<br>\n",
    "3. Linear Support Vector Machine\n",
    "<br>\n",
    "4. Random Forest\n",
    "<br>\n",
    "</ol>\n",
    "<br>\n",
    "For all models, the text inputs will be converted to a matrix of token counts (using CountVectorizer()) and then transformed to a normalized tf-idf representation (using TfidfTransformer()).\n",
    "<br>\n",
    "<br>\n",
    "The goal of using tf-idf instead of the raw frequencies of occurrence of a token in a given document is to scale down the impact of tokens that occur too frequently in the entire dataset.\n",
    "<br>\n",
    "<br>\n",
    "Link: https://scikit-learn.org/stable/modules/generated/sklearn.feature_extraction.text.TfidfTransformer.html"
   ]
  },
  {
   "cell_type": "markdown",
   "metadata": {},
   "source": [
    "### 5ci. Naive Bayes"
   ]
  },
  {
   "cell_type": "code",
   "execution_count": 23,
   "metadata": {},
   "outputs": [
    {
     "name": "stdout",
     "output_type": "stream",
     "text": [
      "[[12129  2140]\n",
      " [ 1988 12425]]\n",
      "0.8560769820793529\n",
      "              precision    recall  f1-score   support\n",
      "\n",
      "    Negative       0.86      0.85      0.85     14269\n",
      "    Positive       0.85      0.86      0.86     14413\n",
      "\n",
      "   micro avg       0.86      0.86      0.86     28682\n",
      "   macro avg       0.86      0.86      0.86     28682\n",
      "weighted avg       0.86      0.86      0.86     28682\n",
      "\n",
      "Time taken to complete fitting Naive Bayes model: 0.1 minutes\n"
     ]
    },
    {
     "data": {
      "image/png": "[encoded data removed]",
      "text/plain": [
       "<Figure size 432x288 with 2 Axes>"
      ]
     },
     "metadata": {},
     "output_type": "display_data"
    }
   ],
   "source": [
    "start = time.clock()\n",
    "x_train = x_train_df[\"Cleaned_Text\"]\n",
    "x_test = x_test_df[\"Cleaned_Text\"]\n",
    "NB = plot_model(xtrain = x_train, xtest = x_test, ytrain = y_train, ytest = y_test,\n",
    "                vect = CountVectorizer(),\n",
    "                tfidf = TfidfTransformer(),\n",
    "                clf = MultinomialNB(), \n",
    "                name_of_classification = \"Naive Bayes\",\n",
    "                showMatrix = True)\n",
    "print(NB[\"confusion_matrix\"])\n",
    "print(NB[\"accuracy_score\"])\n",
    "print(NB[\"class_report\"])\n",
    "print(\"Time taken to complete fitting Naive Bayes model: {} minutes\".format(round((time.clock() - start) / 60, 1)))"
   ]
  },
  {
   "cell_type": "markdown",
   "metadata": {},
   "source": [
    "### 5cii. Logistic Regression"
   ]
  },
  {
   "cell_type": "code",
   "execution_count": 24,
   "metadata": {},
   "outputs": [
    {
     "name": "stdout",
     "output_type": "stream",
     "text": [
      "[[12544  1725]\n",
      " [ 1756 12657]]\n",
      "0.8786346837737954\n",
      "              precision    recall  f1-score   support\n",
      "\n",
      "    Negative       0.88      0.88      0.88     14269\n",
      "    Positive       0.88      0.88      0.88     14413\n",
      "\n",
      "   micro avg       0.88      0.88      0.88     28682\n",
      "   macro avg       0.88      0.88      0.88     28682\n",
      "weighted avg       0.88      0.88      0.88     28682\n",
      "\n",
      "Time taken to complete fitting Linear Regression model: 0.7 minutes\n"
     ]
    },
    {
     "data": {
      "image/png": "[encoded data removed]",
      "text/plain": [
       "<Figure size 432x288 with 2 Axes>"
      ]
     },
     "metadata": {},
     "output_type": "display_data"
    }
   ],
   "source": [
    "start = time.clock()\n",
    "x_train = x_train_df[\"Cleaned_Text\"]\n",
    "x_test = x_test_df[\"Cleaned_Text\"]\n",
    "LR = plot_model(xtrain = x_train, xtest = x_test, ytrain = y_train, ytest = y_test,\n",
    "                vect = CountVectorizer(),\n",
    "                tfidf = TfidfTransformer(),\n",
    "                clf = LogisticRegression(solver = \"lbfgs\", multi_class = \"multinomial\", max_iter = 10000), \n",
    "                name_of_classification = \"Logistic Regression\",\n",
    "                showMatrix = True)\n",
    "print(LR[\"confusion_matrix\"])\n",
    "print(LR[\"accuracy_score\"])\n",
    "print(LR[\"class_report\"])\n",
    "print(\"Time taken to complete fitting Linear Regression model: {} minutes\".format(round((time.clock() - start) / 60, 1)))"
   ]
  },
  {
   "cell_type": "markdown",
   "metadata": {},
   "source": [
    "### 5ciii. Linear Support Vector Machine"
   ]
  },
  {
   "cell_type": "code",
   "execution_count": 25,
   "metadata": {},
   "outputs": [
    {
     "name": "stdout",
     "output_type": "stream",
     "text": [
      "[[12459  1810]\n",
      " [ 1782 12631]]\n",
      "0.8747646607628478\n",
      "              precision    recall  f1-score   support\n",
      "\n",
      "    Negative       0.87      0.87      0.87     14269\n",
      "    Positive       0.87      0.88      0.88     14413\n",
      "\n",
      "   micro avg       0.87      0.87      0.87     28682\n",
      "   macro avg       0.87      0.87      0.87     28682\n",
      "weighted avg       0.87      0.87      0.87     28682\n",
      "\n",
      "Time taken to complete Linear SVM model: 0.1 minutes\n"
     ]
    },
    {
     "data": {
      "image/png": "[encoded data removed]",
      "text/plain": [
       "<Figure size 432x288 with 2 Axes>"
      ]
     },
     "metadata": {},
     "output_type": "display_data"
    }
   ],
   "source": [
    "start = time.clock()\n",
    "x_train = x_train_df[\"Cleaned_Text\"]\n",
    "x_test = x_test_df[\"Cleaned_Text\"]\n",
    "SVC = plot_model(xtrain = x_train, xtest = x_test, ytrain = y_train, ytest = y_test,\n",
    "                 vect = CountVectorizer(),\n",
    "                 tfidf = TfidfTransformer(),\n",
    "                 clf = LinearSVC(), \n",
    "                 name_of_classification = \"Linear Support Vector Machine\",\n",
    "                 showMatrix = True)\n",
    "print(SVC[\"confusion_matrix\"])\n",
    "print(SVC[\"accuracy_score\"])\n",
    "print(SVC[\"class_report\"])\n",
    "print(\"Time taken to complete Linear SVM model: {} minutes\".format(round((time.clock() - start) / 60, 1)))"
   ]
  },
  {
   "cell_type": "markdown",
   "metadata": {},
   "source": [
    "### 5civ. Random Forest"
   ]
  },
  {
   "cell_type": "code",
   "execution_count": 26,
   "metadata": {},
   "outputs": [
    {
     "name": "stderr",
     "output_type": "stream",
     "text": [
      "/anaconda3/envs/smrt/lib/python3.6/site-packages/sklearn/ensemble/forest.py:246: FutureWarning: The default value of n_estimators will change from 10 in version 0.20 to 100 in 0.22.\n",
      "  \"10 in version 0.20 to 100 in 0.22.\", FutureWarning)\n"
     ]
    },
    {
     "name": "stdout",
     "output_type": "stream",
     "text": [
      "[[12242  2027]\n",
      " [ 3924 10489]]\n",
      "0.7925179555121679\n",
      "              precision    recall  f1-score   support\n",
      "\n",
      "    Negative       0.76      0.86      0.80     14269\n",
      "    Positive       0.84      0.73      0.78     14413\n",
      "\n",
      "   micro avg       0.79      0.79      0.79     28682\n",
      "   macro avg       0.80      0.79      0.79     28682\n",
      "weighted avg       0.80      0.79      0.79     28682\n",
      "\n",
      "Time taken to complete Random Forest model: 0.4 minutes\n"
     ]
    },
    {
     "data": {
      "image/png": "[encoded data removed]",
      "text/plain": [
       "<Figure size 432x288 with 2 Axes>"
      ]
     },
     "metadata": {},
     "output_type": "display_data"
    }
   ],
   "source": [
    "start = time.clock()\n",
    "x_train = x_train_df[\"Cleaned_Text\"]\n",
    "x_test = x_test_df[\"Cleaned_Text\"]\n",
    "RF = plot_model(xtrain = x_train, xtest = x_test, ytrain = y_train, ytest = y_test,\n",
    "                vect = CountVectorizer(),\n",
    "                tfidf = TfidfTransformer(),\n",
    "                clf = RandomForestClassifier(), \n",
    "                name_of_classification = \"Random Forest\",\n",
    "                showMatrix = True)\n",
    "print(RF[\"confusion_matrix\"])\n",
    "print(RF[\"accuracy_score\"])\n",
    "print(RF[\"class_report\"])\n",
    "print(\"Time taken to complete Random Forest model: {} minutes\".format(round((time.clock() - start) / 60, 1)))"
   ]
  },
  {
   "cell_type": "markdown",
   "metadata": {},
   "source": [
    "### 5d. N-Gram"
   ]
  },
  {
   "cell_type": "markdown",
   "metadata": {},
   "source": [
    "Based on the results above, Logistic Regression will be used in subsequent analysis since it gives the highest accuracy. Now we will work on N-Gram, a contiguous sequence of n items from a given sample of text or speech."
   ]
  },
  {
   "cell_type": "code",
   "execution_count": 28,
   "metadata": {},
   "outputs": [
    {
     "name": "stdout",
     "output_type": "stream",
     "text": [
      "Accuracy for bigram: 0.8915696255491249. Accuracy for trigram: 0.886688515445227\n",
      "Accuracy for four-gram: 0.8832020082281571. Accuracy for five-gram: 0.878564953629454\n",
      "Time taken to complete 4 Logistic Regression models with n-gram: 49.6 minutes\n"
     ]
    }
   ],
   "source": [
    "start = time.clock()\n",
    "x_train = x_train_df[\"Cleaned_Text\"]\n",
    "x_test = x_test_df[\"Cleaned_Text\"]\n",
    "LR_ngram_12 = plot_model(xtrain = x_train, xtest = x_test, ytrain = y_train, ytest = y_test,\n",
    "                         vect = CountVectorizer(ngram_range=(1, 2)),\n",
    "                         tfidf = TfidfTransformer(),\n",
    "                         clf = LogisticRegression(solver = \"lbfgs\", multi_class = \"multinomial\", max_iter = 10000),\n",
    "                         name_of_classification = \"Logistic Regression\",\n",
    "                         showMatrix = False)\n",
    "\n",
    "LR_ngram_13 = plot_model(xtrain = x_train, xtest = x_test, ytrain = y_train, ytest = y_test,\n",
    "                         vect = CountVectorizer(ngram_range=(1, 3)),\n",
    "                         tfidf = TfidfTransformer(),\n",
    "                         clf = LogisticRegression(solver = \"lbfgs\", multi_class = \"multinomial\", max_iter = 10000),\n",
    "                         name_of_classification = \"Logistic Regression\",\n",
    "                         showMatrix = False)\n",
    "\n",
    "LR_ngram_14 = plot_model(xtrain = x_train, xtest = x_test, ytrain = y_train, ytest = y_test,\n",
    "                         vect = CountVectorizer(ngram_range=(1, 4)),\n",
    "                         tfidf = TfidfTransformer(),\n",
    "                         clf = LogisticRegression(solver = \"lbfgs\", multi_class = \"multinomial\", max_iter = 10000),\n",
    "                         name_of_classification = \"Logistic Regression\",\n",
    "                         showMatrix = False)\n",
    "\n",
    "LR_ngram_15 = plot_model(xtrain = x_train, xtest = x_test, ytrain = y_train, ytest = y_test,\n",
    "                         vect = CountVectorizer(ngram_range=(1, 5)),\n",
    "                         tfidf = TfidfTransformer(),\n",
    "                         clf = LogisticRegression(solver = \"lbfgs\", multi_class = \"multinomial\", max_iter = 10000),\n",
    "                         name_of_classification = \"Logistic Regression\",\n",
    "                         showMatrix = False)\n",
    "\n",
    "print(\"Accuracy for bigram: {}. Accuracy for trigram: {}\".format(LR_ngram_12[\"accuracy_score\"], LR_ngram_13[\"accuracy_score\"]))\n",
    "print(\"Accuracy for four-gram: {}. Accuracy for five-gram: {}\".format(LR_ngram_14[\"accuracy_score\"], LR_ngram_15[\"accuracy_score\"]))\n",
    "print(\"Time taken to complete 4 Logistic Regression models with n-gram: {} minutes\".format(round((time.clock() - start) / 60, 1)))"
   ]
  },
  {
   "cell_type": "markdown",
   "metadata": {},
   "source": [
    "Based on the results above, we will be using the combination of unigram and bigram (ngram_range = (1, 2)) since higher values of gram do not increase the accuracy of the model. The accuracy is increased by about 1% with the use of unigram and bigram."
   ]
  },
  {
   "cell_type": "markdown",
   "metadata": {},
   "source": [
    "### 5e. Common / Rare Words Removal"
   ]
  },
  {
   "cell_type": "markdown",
   "metadata": {},
   "source": [
    "Next we will remove words that occur too rarely and frequently in the dataset. Words that occur only once will be removed from the analysis since they are unique words. There are two words that are unusually of high frequency (more than 40000). These words are also removed from the analysis.\n",
    "<br>\n",
    "<br>\n",
    "These are specified in the \"min_df\" and \"max_df\" parameter in the CountVectorizer() function."
   ]
  },
  {
   "cell_type": "code",
   "execution_count": 29,
   "metadata": {},
   "outputs": [
    {
     "name": "stdout",
     "output_type": "stream",
     "text": [
      "Top 10 lowest frequency with their respective number of words belonging to that frequency\n",
      "1     16027\n",
      "2      4296\n",
      "3      2249\n",
      "4      1418\n",
      "5      1070\n",
      "6       826\n",
      "7       627\n",
      "8       535\n",
      "9       466\n",
      "10      369\n",
      "dtype: int64\n",
      "Top 10 highest frequency with their respective number of words belonging to that frequency\n",
      "21550    1\n",
      "21990    1\n",
      "25624    1\n",
      "26023    1\n",
      "27090    1\n",
      "28991    1\n",
      "30370    1\n",
      "34356    1\n",
      "44000    1\n",
      "44464    1\n",
      "dtype: int64\n",
      "86044\n"
     ]
    }
   ],
   "source": [
    "# Remove common words\n",
    "freq = pd.Series(' '.join(x_train).split()).value_counts()\n",
    "print(\"Top 10 lowest frequency with their respective number of words belonging to that frequency\")\n",
    "print(freq.value_counts().sort_index()[0:10])\n",
    "print(\"Top 10 highest frequency with their respective number of words belonging to that frequency\")\n",
    "print(freq.value_counts().sort_index()[-10:])\n",
    "print(len(x_train))"
   ]
  },
  {
   "cell_type": "code",
   "execution_count": 30,
   "metadata": {},
   "outputs": [
    {
     "name": "stdout",
     "output_type": "stream",
     "text": [
      "[[12719  1550]\n",
      " [ 1512 12901]]\n",
      "0.8932431490133185\n",
      "              precision    recall  f1-score   support\n",
      "\n",
      "    Negative       0.89      0.89      0.89     14269\n",
      "    Positive       0.89      0.90      0.89     14413\n",
      "\n",
      "   micro avg       0.89      0.89      0.89     28682\n",
      "   macro avg       0.89      0.89      0.89     28682\n",
      "weighted avg       0.89      0.89      0.89     28682\n",
      "\n",
      "Time taken to complete Logistic Regression with min/max_df: 2.8 minutes\n"
     ]
    },
    {
     "data": {
      "image/png": "[encoded data removed]",
      "text/plain": [
       "<Figure size 432x288 with 2 Axes>"
      ]
     },
     "metadata": {},
     "output_type": "display_data"
    }
   ],
   "source": [
    "start = time.clock()\n",
    "x_train = x_train_df[\"Cleaned_Text\"]\n",
    "x_test = x_test_df[\"Cleaned_Text\"]\n",
    "LR_ngram_12_freq = plot_model(xtrain = x_train, xtest = x_test, ytrain = y_train, ytest = y_test,\n",
    "                              vect = CountVectorizer(ngram_range=(1, 2), max_df = 0.5, min_df = 2),\n",
    "                              tfidf = TfidfTransformer(),\n",
    "                              clf = LogisticRegression(solver = \"lbfgs\", multi_class = \"multinomial\", max_iter = 10000),\n",
    "                              name_of_classification = \"Logistic Regression\",\n",
    "                              showMatrix = True)\n",
    "print(LR_ngram_12_freq[\"confusion_matrix\"])\n",
    "print(LR_ngram_12_freq[\"accuracy_score\"])\n",
    "print(LR_ngram_12_freq[\"class_report\"])\n",
    "print(\"Time taken to complete Logistic Regression with min/max_df: {} minutes\".format(round((time.clock() - start) / 60, 1)))"
   ]
  },
  {
   "cell_type": "markdown",
   "metadata": {},
   "source": [
    "The removal of rare and common words increases the accuracy by less than 1%, hence it might not be too relevant for this task."
   ]
  },
  {
   "cell_type": "markdown",
   "metadata": {},
   "source": [
    "### 5f. Summary vs Text vs Summary+Text"
   ]
  },
  {
   "cell_type": "markdown",
   "metadata": {},
   "source": [
    "Next, we will test our model on the summary column and the summary_text column that is newly featured earlier."
   ]
  },
  {
   "cell_type": "code",
   "execution_count": 31,
   "metadata": {},
   "outputs": [
    {
     "name": "stdout",
     "output_type": "stream",
     "text": [
      "[[11871  2398]\n",
      " [ 2322 12091]]\n",
      "0.8354368593542989\n",
      "              precision    recall  f1-score   support\n",
      "\n",
      "    Negative       0.84      0.83      0.83     14269\n",
      "    Positive       0.83      0.84      0.84     14413\n",
      "\n",
      "   micro avg       0.84      0.84      0.84     28682\n",
      "   macro avg       0.84      0.84      0.84     28682\n",
      "weighted avg       0.84      0.84      0.84     28682\n",
      "\n",
      "Time taken to complete Logistic Regression on Summary: 0.3 minutes\n"
     ]
    },
    {
     "data": {
      "image/png": "[encoded data removed]",
      "text/plain": [
       "<Figure size 432x288 with 2 Axes>"
      ]
     },
     "metadata": {},
     "output_type": "display_data"
    }
   ],
   "source": [
    "start = time.clock()\n",
    "x_train = x_train_df[\"Cleaned_Summary\"]\n",
    "x_test = x_test_df[\"Cleaned_Summary\"]\n",
    "LR_ngram_12_freq_summary = plot_model(xtrain = x_train, xtest = x_test, ytrain = y_train, ytest = y_test,\n",
    "                                      vect = CountVectorizer(ngram_range=(1, 2), max_df = 0.5, min_df = 2),\n",
    "                                      tfidf = TfidfTransformer(),\n",
    "                                      clf = LogisticRegression(solver = \"lbfgs\", multi_class = \"multinomial\", max_iter = 10000),\n",
    "                                      name_of_classification = \"Logistic Regression\",\n",
    "                                      showMatrix = True)\n",
    "print(LR_ngram_12_freq_summary[\"confusion_matrix\"])\n",
    "print(LR_ngram_12_freq_summary[\"accuracy_score\"])\n",
    "print(LR_ngram_12_freq_summary[\"class_report\"])\n",
    "print(\"Time taken to complete Logistic Regression on Summary: {} minutes\".format(round((time.clock() - start) / 60, 1)))"
   ]
  },
  {
   "cell_type": "code",
   "execution_count": 32,
   "metadata": {},
   "outputs": [
    {
     "name": "stdout",
     "output_type": "stream",
     "text": [
      "[[13004  1265]\n",
      " [ 1234 13179]]\n",
      "0.9128721846454222\n",
      "              precision    recall  f1-score   support\n",
      "\n",
      "    Negative       0.91      0.91      0.91     14269\n",
      "    Positive       0.91      0.91      0.91     14413\n",
      "\n",
      "   micro avg       0.91      0.91      0.91     28682\n",
      "   macro avg       0.91      0.91      0.91     28682\n",
      "weighted avg       0.91      0.91      0.91     28682\n",
      "\n",
      "Time taken to complete Logistic Regression on Summary + Text: 2.3 minutes\n"
     ]
    },
    {
     "data": {
      "image/png": "[encoded data removed]",
      "text/plain": [
       "<Figure size 432x288 with 2 Axes>"
      ]
     },
     "metadata": {},
     "output_type": "display_data"
    }
   ],
   "source": [
    "start = time.clock()\n",
    "x_train = x_train_df[\"Cleaned_Summary_Text\"]\n",
    "x_test = x_test_df[\"Cleaned_Summary_Text\"]\n",
    "LR_ngram_12_freq_summaryText = plot_model(xtrain = x_train, xtest = x_test, ytrain = y_train, ytest = y_test,\n",
    "                                          vect = CountVectorizer(ngram_range=(1, 2), max_df = 0.5, min_df = 2),\n",
    "                                          tfidf = TfidfTransformer(),\n",
    "                                          clf = LogisticRegression(solver = \"lbfgs\", multi_class = \"multinomial\", max_iter = 10000),\n",
    "                                          name_of_classification = \"Logistic Regression\",\n",
    "                                          showMatrix = True)\n",
    "print(LR_ngram_12_freq_summaryText[\"confusion_matrix\"])\n",
    "print(LR_ngram_12_freq_summaryText[\"accuracy_score\"])\n",
    "print(LR_ngram_12_freq_summaryText[\"class_report\"])\n",
    "print(\"Time taken to complete Logistic Regression on Summary + Text: {} minutes\".format(round((time.clock() - start) / 60, 1)))"
   ]
  },
  {
   "cell_type": "markdown",
   "metadata": {},
   "source": [
    "Analysis on the summary_text column increased the accuracy by about 2%. \n",
    "<br>\n",
    "<br>\n",
    "Now we will test our model on the entire dataset."
   ]
  },
  {
   "cell_type": "code",
   "execution_count": 33,
   "metadata": {},
   "outputs": [
    {
     "name": "stdout",
     "output_type": "stream",
     "text": [
      "[[10640  3633]\n",
      " [ 1244 75814]]\n",
      "0.9466008255685364\n",
      "              precision    recall  f1-score   support\n",
      "\n",
      "    Negative       0.90      0.75      0.81     14273\n",
      "    Positive       0.95      0.98      0.97     77058\n",
      "\n",
      "   micro avg       0.95      0.95      0.95     91331\n",
      "   macro avg       0.92      0.86      0.89     91331\n",
      "weighted avg       0.95      0.95      0.94     91331\n",
      "\n",
      "Time taken to complete Logistic Regression on Text on whole dataset: 12.1 minutes\n"
     ]
    },
    {
     "data": {
      "image/png": "[encoded data removed]",
      "text/plain": [
       "<Figure size 432x288 with 2 Axes>"
      ]
     },
     "metadata": {},
     "output_type": "display_data"
    }
   ],
   "source": [
    "start = time.clock()\n",
    "x_train_full = x_train_df_full[\"Cleaned_Summary_Text\"]\n",
    "x_test_full = x_test_df_full[\"Cleaned_Summary_Text\"]\n",
    "LR_full_ngram_12_freq = plot_model(xtrain = x_train_full, xtest = x_test_full, ytrain = y_train_full, ytest = y_test_full,\n",
    "                                   vect = CountVectorizer(ngram_range=(1, 2), max_df = 0.5, min_df = 2),\n",
    "                                   tfidf = TfidfTransformer(),\n",
    "                                   clf = LogisticRegression(solver = \"lbfgs\", multi_class = \"multinomial\", max_iter = 10000),\n",
    "                                   name_of_classification = \"Logistic Regression\",\n",
    "                                   showMatrix = True)\n",
    "print(LR_full_ngram_12_freq[\"confusion_matrix\"])\n",
    "print(LR_full_ngram_12_freq[\"accuracy_score\"])\n",
    "print(LR_full_ngram_12_freq[\"class_report\"])\n",
    "print(\"Time taken to complete Logistic Regression on Text on whole dataset: {} minutes\".format(round((time.clock() - start) / 60, 1)))"
   ]
  },
  {
   "cell_type": "markdown",
   "metadata": {},
   "source": [
    "Due to skewed sample sizes, there is a significant number of misclassified case for the negative group. Hence, the model will not be fitted on the entire dataset"
   ]
  },
  {
   "cell_type": "markdown",
   "metadata": {},
   "source": [
    "### 5g. Regularization"
   ]
  },
  {
   "cell_type": "markdown",
   "metadata": {},
   "source": [
    "Next we will tune the model by changing the values of the inverse regularization term found in the logistic regression function.\n",
    "<br>\n",
    "<br>\n",
    "Link: https://scikit-learn.org/stable/modules/generated/sklearn.linear_model.LogisticRegression.html"
   ]
  },
  {
   "cell_type": "code",
   "execution_count": 34,
   "metadata": {},
   "outputs": [
    {
     "name": "stdout",
     "output_type": "stream",
     "text": [
      "C: 0.001, Accuracy Score: 0.8568440136671083\n",
      "C: 0.01, Accuracy Score: 0.8716616693396555\n",
      "C: 0.1, Accuracy Score: 0.8953350533435604\n",
      "C: 1.0, Accuracy Score: 0.9128721846454222\n",
      "C: 5, Accuracy Score: 0.9167422076563698\n",
      "C: 10, Accuracy Score: 0.9169165330172233\n",
      "C: 15, Accuracy Score: 0.9168119378007112\n",
      "C: 20, Accuracy Score: 0.9167770727285406\n",
      "C: 25, Accuracy Score: 0.9167770727285406\n",
      "C: 30, Accuracy Score: 0.9166027473676871\n",
      "Time taken to complete Logistic Regression Grid Search: 37.5 minutes\n"
     ]
    }
   ],
   "source": [
    "start = time.clock()\n",
    "x_train = x_train_df[\"Cleaned_Summary_Text\"]\n",
    "x_test = x_test_df[\"Cleaned_Summary_Text\"]\n",
    "c_values = [0.001, 0.01, 0.1, 1.0] + list(np.arange(5, 35, 5))\n",
    "score = []\n",
    "for c in c_values:\n",
    "\n",
    "    LR_ngram_12_freq_summaryText = plot_model(xtrain = x_train, xtest = x_test, ytrain = y_train, ytest = y_test,\n",
    "                                              vect = CountVectorizer(ngram_range=(1, 2), max_df = 0.5, min_df = 2),\n",
    "                                              tfidf = TfidfTransformer(),\n",
    "                                              clf = LogisticRegression(C = c, solver = \"lbfgs\", multi_class = \"multinomial\", max_iter = 10000),\n",
    "                                              name_of_classification = \"Logistic Regression\",\n",
    "                                              showMatrix = False)\n",
    "    print(\"C: {}, Accuracy Score: {}\".format(c, LR_ngram_12_freq_summaryText[\"accuracy_score\"]))\n",
    "    score.append(LR_ngram_12_freq_summaryText[\"accuracy_score\"])\n",
    "    if c == 100.0:\n",
    "        plt.plot(c_values, score, marker = '*') \n",
    "        plt.title(\"Accuracy Score vs c\")\n",
    "        plt.xlabel('value of c')\n",
    "        plt.ylabel('Accuracy Score')\n",
    "        plt.show()\n",
    "    \n",
    "# print(SVC_ngram_12_freq_summaryText[\"confusion_matrix\"])\n",
    "# print(SVC_ngram_12_freq_summaryText[\"accuracy_score\"])\n",
    "# print(SVC_ngram_12_freq_summaryText[\"class_report\"])\n",
    "print(\"Time taken to complete Logistic Regression Grid Search: {} minutes\".format(round((time.clock() - start) / 60, 1)))"
   ]
  },
  {
   "cell_type": "code",
   "execution_count": 35,
   "metadata": {},
   "outputs": [
    {
     "data": {
      "image/png": "[encoded data removed]",
      "text/plain": [
       "<Figure size 432x288 with 1 Axes>"
      ]
     },
     "metadata": {},
     "output_type": "display_data"
    }
   ],
   "source": [
    "plt.plot(c_values, score, marker = '*') \n",
    "plt.title(\"Accuracy Score vs c\")\n",
    "plt.xlabel('value of c')\n",
    "plt.ylabel('Accuracy Score')\n",
    "plt.show()"
   ]
  },
  {
   "cell_type": "markdown",
   "metadata": {},
   "source": [
    "We will use a value of 10 for the inverse regularization term since higher values do not affect the accuracy much."
   ]
  },
  {
   "cell_type": "markdown",
   "metadata": {},
   "source": [
    "## 6. Final Model"
   ]
  },
  {
   "cell_type": "code",
   "execution_count": 36,
   "metadata": {},
   "outputs": [
    {
     "name": "stdout",
     "output_type": "stream",
     "text": [
      "[[13050  1219]\n",
      " [ 1164 13249]]\n",
      "0.9169165330172233\n",
      "              precision    recall  f1-score   support\n",
      "\n",
      "    Negative       0.92      0.91      0.92     14269\n",
      "    Positive       0.92      0.92      0.92     14413\n",
      "\n",
      "   micro avg       0.92      0.92      0.92     28682\n",
      "   macro avg       0.92      0.92      0.92     28682\n",
      "weighted avg       0.92      0.92      0.92     28682\n",
      "\n",
      "Time taken to complete Logistic Regression on Summary: 5.3 minutes\n"
     ]
    },
    {
     "data": {
      "image/png": "[encoded data removed]",
      "text/plain": [
       "<Figure size 432x288 with 2 Axes>"
      ]
     },
     "metadata": {},
     "output_type": "display_data"
    }
   ],
   "source": [
    "start = time.clock()\n",
    "x_train = x_train_df[\"Cleaned_Summary_Text\"]\n",
    "x_test = x_test_df[\"Cleaned_Summary_Text\"]\n",
    "LR_ngram_12_freq_summary = plot_model(xtrain = x_train, xtest = x_test, ytrain = y_train, ytest = y_test,\n",
    "                                      vect = CountVectorizer(ngram_range=(1, 2), max_df = 0.5, min_df = 2),\n",
    "                                      tfidf = TfidfTransformer(),\n",
    "                                      clf = LogisticRegression(solver = \"lbfgs\", multi_class = \"multinomial\", max_iter = 10000, C = 10),\n",
    "                                      name_of_classification = \"Logistic Regression\",\n",
    "                                      showMatrix = True)\n",
    "print(LR_ngram_12_freq_summary[\"confusion_matrix\"])\n",
    "print(LR_ngram_12_freq_summary[\"accuracy_score\"])\n",
    "print(LR_ngram_12_freq_summary[\"class_report\"])\n",
    "print(\"Time taken to complete Logistic Regression on Summary: {} minutes\".format(round((time.clock() - start) / 60, 1)))"
   ]
  },
  {
   "cell_type": "markdown",
   "metadata": {},
   "source": [
    "Below show some examples of misclassified cases."
   ]
  },
  {
   "cell_type": "code",
   "execution_count": 37,
   "metadata": {},
   "outputs": [
    {
     "data": {
      "text/html": [
       "<div>\n",
       "<style scoped>\n",
       "    .dataframe tbody tr th:only-of-type {\n",
       "        vertical-align: middle;\n",
       "    }\n",
       "\n",
       "    .dataframe tbody tr th {\n",
       "        vertical-align: top;\n",
       "    }\n",
       "\n",
       "    .dataframe thead th {\n",
       "        text-align: right;\n",
       "    }\n",
       "</style>\n",
       "<table border=\"1\" class=\"dataframe\">\n",
       "  <thead>\n",
       "    <tr style=\"text-align: right;\">\n",
       "      <th></th>\n",
       "      <th>Cleaned_Summary_Text</th>\n",
       "      <th>Rating</th>\n",
       "      <th>Prediction</th>\n",
       "    </tr>\n",
       "  </thead>\n",
       "  <tbody>\n",
       "    <tr>\n",
       "      <th>50395</th>\n",
       "      <td>buy new great tast spearmint altoid  tri new ...</td>\n",
       "      <td>Negative</td>\n",
       "      <td>Negative</td>\n",
       "    </tr>\n",
       "    <tr>\n",
       "      <th>159478</th>\n",
       "      <td>homemad centuri  great homemad tast plus quic...</td>\n",
       "      <td>Positive</td>\n",
       "      <td>Positive</td>\n",
       "    </tr>\n",
       "    <tr>\n",
       "      <th>65475</th>\n",
       "      <td>strong salt pepper tast  experi ate first foo...</td>\n",
       "      <td>Positive</td>\n",
       "      <td>Negative</td>\n",
       "    </tr>\n",
       "    <tr>\n",
       "      <th>37482</th>\n",
       "      <td>way expens  tast calori content good protein ...</td>\n",
       "      <td>Negative</td>\n",
       "      <td>Negative</td>\n",
       "    </tr>\n",
       "    <tr>\n",
       "      <th>551607</th>\n",
       "      <td>strong origin  thought gross extra ingredi co...</td>\n",
       "      <td>Negative</td>\n",
       "      <td>Negative</td>\n",
       "    </tr>\n",
       "  </tbody>\n",
       "</table>\n",
       "</div>"
      ],
      "text/plain": [
       "                                     Cleaned_Summary_Text    Rating Prediction\n",
       "50395    buy new great tast spearmint altoid  tri new ...  Negative   Negative\n",
       "159478   homemad centuri  great homemad tast plus quic...  Positive   Positive\n",
       "65475    strong salt pepper tast  experi ate first foo...  Positive   Negative\n",
       "37482    way expens  tast calori content good protein ...  Negative   Negative\n",
       "551607   strong origin  thought gross extra ingredi co...  Negative   Negative"
      ]
     },
     "execution_count": 37,
     "metadata": {},
     "output_type": "execute_result"
    }
   ],
   "source": [
    "test_df = pd.DataFrame({\"Cleaned_Summary_Text\": x_test_df.Cleaned_Summary_Text,\n",
    "                        \"Rating\": y_test,\n",
    "                        \"Prediction\": LR_ngram_12_freq_summaryText[\"prediction\"]\n",
    "                       })\n",
    "test_df.head()"
   ]
  },
  {
   "cell_type": "code",
   "execution_count": 38,
   "metadata": {},
   "outputs": [
    {
     "data": {
      "text/plain": [
       "{0: 'Positive', 1: 'Negative'}"
      ]
     },
     "execution_count": 38,
     "metadata": {},
     "output_type": "execute_result"
    }
   ],
   "source": [
    "id_to_category"
   ]
  },
  {
   "cell_type": "code",
   "execution_count": 39,
   "metadata": {},
   "outputs": [
    {
     "data": {
      "text/plain": [
       "{'Positive': 0, 'Negative': 1}"
      ]
     },
     "execution_count": 39,
     "metadata": {},
     "output_type": "execute_result"
    }
   ],
   "source": [
    "category_to_id"
   ]
  },
  {
   "cell_type": "code",
   "execution_count": 40,
   "metadata": {},
   "outputs": [
    {
     "name": "stdout",
     "output_type": "stream",
     "text": [
      "'Negative' predicted as 'Positive' : 1172 examples (only display 10).\n"
     ]
    },
    {
     "data": {
      "text/html": [
       "<div>\n",
       "<style scoped>\n",
       "    .dataframe tbody tr th:only-of-type {\n",
       "        vertical-align: middle;\n",
       "    }\n",
       "\n",
       "    .dataframe tbody tr th {\n",
       "        vertical-align: top;\n",
       "    }\n",
       "\n",
       "    .dataframe thead th {\n",
       "        text-align: right;\n",
       "    }\n",
       "</style>\n",
       "<table border=\"1\" class=\"dataframe\">\n",
       "  <thead>\n",
       "    <tr style=\"text-align: right;\">\n",
       "      <th></th>\n",
       "      <th>Cleaned_Summary_Text</th>\n",
       "      <th>Rating</th>\n",
       "      <th>Prediction</th>\n",
       "    </tr>\n",
       "  </thead>\n",
       "  <tbody>\n",
       "    <tr>\n",
       "      <th>213669</th>\n",
       "      <td>order good anyway  receiv differ box mate coc...</td>\n",
       "      <td>Negative</td>\n",
       "      <td>Positive</td>\n",
       "    </tr>\n",
       "    <tr>\n",
       "      <th>259491</th>\n",
       "      <td>sweat eat  exact want way sweat dont realli l...</td>\n",
       "      <td>Negative</td>\n",
       "      <td>Positive</td>\n",
       "    </tr>\n",
       "    <tr>\n",
       "      <th>553420</th>\n",
       "      <td>like car oil  nasti stuff compar great oil st...</td>\n",
       "      <td>Negative</td>\n",
       "      <td>Positive</td>\n",
       "    </tr>\n",
       "    <tr>\n",
       "      <th>454020</th>\n",
       "      <td>mediocr  jar arriv sticki mean seal work prop...</td>\n",
       "      <td>Negative</td>\n",
       "      <td>Positive</td>\n",
       "    </tr>\n",
       "    <tr>\n",
       "      <th>299908</th>\n",
       "      <td>water  thought would get pure version agav gr...</td>\n",
       "      <td>Negative</td>\n",
       "      <td>Positive</td>\n",
       "    </tr>\n",
       "    <tr>\n",
       "      <th>559058</th>\n",
       "      <td>belli flop great valu  love jelli belli certi...</td>\n",
       "      <td>Negative</td>\n",
       "      <td>Positive</td>\n",
       "    </tr>\n",
       "    <tr>\n",
       "      <th>38492</th>\n",
       "      <td>wonka would cri  poor charli hard get phrase ...</td>\n",
       "      <td>Negative</td>\n",
       "      <td>Positive</td>\n",
       "    </tr>\n",
       "    <tr>\n",
       "      <th>410747</th>\n",
       "      <td>babi eat straight pouch  spoon wholli unneces...</td>\n",
       "      <td>Negative</td>\n",
       "      <td>Positive</td>\n",
       "    </tr>\n",
       "    <tr>\n",
       "      <th>141284</th>\n",
       "      <td>jack price last three week  review isnt produ...</td>\n",
       "      <td>Negative</td>\n",
       "      <td>Positive</td>\n",
       "    </tr>\n",
       "    <tr>\n",
       "      <th>123499</th>\n",
       "      <td>german shepherd went coupl day  antler soft t...</td>\n",
       "      <td>Negative</td>\n",
       "      <td>Positive</td>\n",
       "    </tr>\n",
       "  </tbody>\n",
       "</table>\n",
       "</div>"
      ],
      "text/plain": [
       "                                     Cleaned_Summary_Text    Rating Prediction\n",
       "213669   order good anyway  receiv differ box mate coc...  Negative   Positive\n",
       "259491   sweat eat  exact want way sweat dont realli l...  Negative   Positive\n",
       "553420   like car oil  nasti stuff compar great oil st...  Negative   Positive\n",
       "454020   mediocr  jar arriv sticki mean seal work prop...  Negative   Positive\n",
       "299908   water  thought would get pure version agav gr...  Negative   Positive\n",
       "559058   belli flop great valu  love jelli belli certi...  Negative   Positive\n",
       "38492    wonka would cri  poor charli hard get phrase ...  Negative   Positive\n",
       "410747   babi eat straight pouch  spoon wholli unneces...  Negative   Positive\n",
       "141284   jack price last three week  review isnt produ...  Negative   Positive\n",
       "123499   german shepherd went coupl day  antler soft t...  Negative   Positive"
      ]
     },
     "metadata": {},
     "output_type": "display_data"
    },
    {
     "name": "stdout",
     "output_type": "stream",
     "text": [
      "\n",
      "'Positive' predicted as 'Negative' : 1220 examples (only display 10).\n"
     ]
    },
    {
     "data": {
      "text/html": [
       "<div>\n",
       "<style scoped>\n",
       "    .dataframe tbody tr th:only-of-type {\n",
       "        vertical-align: middle;\n",
       "    }\n",
       "\n",
       "    .dataframe tbody tr th {\n",
       "        vertical-align: top;\n",
       "    }\n",
       "\n",
       "    .dataframe thead th {\n",
       "        text-align: right;\n",
       "    }\n",
       "</style>\n",
       "<table border=\"1\" class=\"dataframe\">\n",
       "  <thead>\n",
       "    <tr style=\"text-align: right;\">\n",
       "      <th></th>\n",
       "      <th>Cleaned_Summary_Text</th>\n",
       "      <th>Rating</th>\n",
       "      <th>Prediction</th>\n",
       "    </tr>\n",
       "  </thead>\n",
       "  <tbody>\n",
       "    <tr>\n",
       "      <th>65475</th>\n",
       "      <td>strong salt pepper tast  experi ate first foo...</td>\n",
       "      <td>Positive</td>\n",
       "      <td>Negative</td>\n",
       "    </tr>\n",
       "    <tr>\n",
       "      <th>136933</th>\n",
       "      <td>wow  never thought would get excit box cake m...</td>\n",
       "      <td>Positive</td>\n",
       "      <td>Negative</td>\n",
       "    </tr>\n",
       "    <tr>\n",
       "      <th>319945</th>\n",
       "      <td>bland  one star less use pod cup make right t...</td>\n",
       "      <td>Positive</td>\n",
       "      <td>Negative</td>\n",
       "    </tr>\n",
       "    <tr>\n",
       "      <th>75967</th>\n",
       "      <td>good flavor  think good flavor sure peopl exp...</td>\n",
       "      <td>Positive</td>\n",
       "      <td>Negative</td>\n",
       "    </tr>\n",
       "    <tr>\n",
       "      <th>415471</th>\n",
       "      <td>yes amazon sold outdat coffe  cant believ got...</td>\n",
       "      <td>Positive</td>\n",
       "      <td>Negative</td>\n",
       "    </tr>\n",
       "    <tr>\n",
       "      <th>217229</th>\n",
       "      <td>good basic cup morn  want prefer green mounta...</td>\n",
       "      <td>Positive</td>\n",
       "      <td>Negative</td>\n",
       "    </tr>\n",
       "    <tr>\n",
       "      <th>406187</th>\n",
       "      <td>tasti stale  origin order bar thought order d...</td>\n",
       "      <td>Positive</td>\n",
       "      <td>Negative</td>\n",
       "    </tr>\n",
       "    <tr>\n",
       "      <th>251356</th>\n",
       "      <td>ideal coffe  review grove squar medium roast ...</td>\n",
       "      <td>Positive</td>\n",
       "      <td>Negative</td>\n",
       "    </tr>\n",
       "    <tr>\n",
       "      <th>71351</th>\n",
       "      <td>new condition  problem hair there kind textur...</td>\n",
       "      <td>Positive</td>\n",
       "      <td>Negative</td>\n",
       "    </tr>\n",
       "    <tr>\n",
       "      <th>448987</th>\n",
       "      <td>spici hurray  love palak paneer hard find one...</td>\n",
       "      <td>Positive</td>\n",
       "      <td>Negative</td>\n",
       "    </tr>\n",
       "  </tbody>\n",
       "</table>\n",
       "</div>"
      ],
      "text/plain": [
       "                                     Cleaned_Summary_Text    Rating Prediction\n",
       "65475    strong salt pepper tast  experi ate first foo...  Positive   Negative\n",
       "136933   wow  never thought would get excit box cake m...  Positive   Negative\n",
       "319945   bland  one star less use pod cup make right t...  Positive   Negative\n",
       "75967    good flavor  think good flavor sure peopl exp...  Positive   Negative\n",
       "415471   yes amazon sold outdat coffe  cant believ got...  Positive   Negative\n",
       "217229   good basic cup morn  want prefer green mounta...  Positive   Negative\n",
       "406187   tasti stale  origin order bar thought order d...  Positive   Negative\n",
       "251356   ideal coffe  review grove squar medium roast ...  Positive   Negative\n",
       "71351    new condition  problem hair there kind textur...  Positive   Negative\n",
       "448987   spici hurray  love palak paneer hard find one...  Positive   Negative"
      ]
     },
     "metadata": {},
     "output_type": "display_data"
    },
    {
     "name": "stdout",
     "output_type": "stream",
     "text": [
      "\n"
     ]
    }
   ],
   "source": [
    "categories = test_df.Rating.unique()\n",
    "def get_misclassified_rows(size):\n",
    "    for predicted in category_id_df.category_id:\n",
    "        for actual in category_id_df.category_id:\n",
    "            if predicted != actual:\n",
    "                print(\"'{}' predicted as '{}' : {} examples (only display {}).\".format(id_to_category[actual], id_to_category[predicted], LR_ngram_12_freq_summaryText[\"confusion_matrix\"][actual, predicted], size))\n",
    "                display(test_df.loc[indices_test[(y_test == id_to_category[actual]) & (test_df[\"Prediction\"] == id_to_category[predicted])]][0:size][[\"Cleaned_Summary_Text\", \"Rating\", \"Prediction\"]])\n",
    "                print('')\n",
    "get_misclassified_rows(10)"
   ]
  },
  {
   "cell_type": "markdown",
   "metadata": {},
   "source": [
    "## 7. Conclusion"
   ]
  },
  {
   "cell_type": "markdown",
   "metadata": {},
   "source": [
    "Logistic Regression works best among all the tested models in this task.\n",
    "<br>\n",
    "<br>\n",
    "The use of bi-gram, removal of common and rare words, feature engineering (to create summary_text) and tuning the regularizaion parameter increases the accuracy of the model.\n",
    "<br>\n",
    "<br>\n",
    "Some of the misclassified cases are due to users who gave poor reviews but yet gave a positive rating. Given that the overall accuracy of the model is more than 90%, the model is accurate enough to classify if a review is negative or positive."
   ]
  }
 ],
 "metadata": {
  "kernelspec": {
   "display_name": "Python 3",
   "language": "python",
   "name": "python3"
  },
  "language_info": {
   "codemirror_mode": {
    "name": "ipython",
    "version": 3
   },
   "file_extension": ".py",
   "mimetype": "text/x-python",
   "name": "python",
   "nbconvert_exporter": "python",
   "pygments_lexer": "ipython3",
   "version": "3.6.7"
  }
 },
 "nbformat": 4,
 "nbformat_minor": 2
}
